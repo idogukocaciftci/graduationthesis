{
 "cells": [
  {
   "cell_type": "code",
   "execution_count": 1,
   "metadata": {},
   "outputs": [
    {
     "data": {
      "application/vnd.plotly.v1+json": {
       "config": {
        "plotlyServerURL": "https://plot.ly"
       },
       "data": [
        {
         "branchvalues": "total",
         "customdata": [
          [
           1
          ],
          [
           1
          ],
          [
           379
          ],
          [
           802
          ],
          [
           8
          ],
          [
           4
          ],
          [
           173
          ],
          [
           206
          ],
          [
           6
          ],
          [
           4
          ],
          [
           34
          ],
          [
           1
          ],
          [
           30
          ],
          [
           20
          ],
          [
           2
          ],
          [
           1
          ],
          [
           2
          ],
          [
           1
          ],
          [
           1
          ],
          [
           1
          ],
          [
           2
          ],
          [
           6
          ],
          [
           1
          ],
          [
           1
          ],
          [
           1
          ],
          [
           27
          ],
          [
           2
          ],
          [
           1
          ],
          [
           344
          ],
          [
           7
          ],
          [
           1
          ],
          [
           1
          ],
          [
           2
          ],
          [
           2
          ],
          [
           3
          ],
          [
           4
          ],
          [
           1
          ],
          [
           4
          ],
          [
           1
          ],
          [
           10
          ],
          [
           1
          ],
          [
           1
          ],
          [
           1
          ],
          [
           5
          ],
          [
           1
          ],
          [
           1
          ],
          [
           2
          ],
          [
           1
          ],
          [
           1
          ],
          [
           1
          ],
          [
           245
          ],
          [
           1
          ],
          [
           1
          ],
          [
           2
          ],
          [
           3
          ],
          [
           1
          ],
          [
           3
          ],
          [
           1
          ],
          [
           1
          ],
          [
           1
          ],
          [
           68
          ],
          [
           1
          ],
          [
           1
          ],
          [
           1
          ],
          [
           2
          ],
          [
           2
          ],
          [
           9
          ],
          [
           61
          ],
          [
           4
          ],
          [
           1
          ],
          [
           1
          ],
          [
           39
          ],
          [
           5
          ],
          [
           30
          ],
          [
           1
          ],
          [
           5
          ],
          [
           13
          ],
          [
           5
          ],
          [
           2
          ],
          [
           8
          ],
          [
           1
          ],
          [
           321
          ],
          [
           2
          ],
          [
           1
          ],
          [
           1
          ],
          [
           29
          ],
          [
           4
          ],
          [
           1
          ],
          [
           1
          ],
          [
           19
          ],
          [
           12
          ],
          [
           22
          ],
          [
           14
          ],
          [
           4
          ],
          [
           10
          ],
          [
           8
          ],
          [
           1
          ],
          [
           12
          ],
          [
           2
          ],
          [
           1
          ],
          [
           1
          ],
          [
           2
          ],
          [
           2
          ],
          [
           1
          ],
          [
           1
          ],
          [
           1
          ],
          [
           2
          ],
          [
           2
          ],
          [
           1
          ],
          [
           2
          ],
          [
           1
          ],
          [
           2
          ],
          [
           1
          ],
          [
           136
          ],
          [
           3
          ],
          [
           2
          ],
          [
           1
          ],
          [
           1
          ],
          [
           1
          ],
          [
           70
          ],
          [
           6
          ],
          [
           73
          ],
          [
           2
          ],
          [
           53
          ],
          [
           1
          ],
          [
           2
          ],
          [
           2
          ],
          [
           31
          ],
          [
           53
          ],
          [
           1
          ],
          [
           2
          ],
          [
           1
          ],
          [
           10
          ],
          [
           2
          ],
          [
           2
          ],
          [
           1
          ],
          [
           9
          ],
          [
           48
          ],
          [
           29
          ],
          [
           246
          ],
          [
           17
          ],
          [
           2
          ],
          [
           31
          ],
          [
           46
          ],
          [
           1
          ],
          [
           1
          ],
          [
           1
          ],
          [
           509
          ],
          [
           654
          ],
          [
           1
          ],
          [
           1
          ],
          [
           31
          ],
          [
           53
          ],
          [
           9
          ],
          [
           12
          ],
          [
           20
          ],
          [
           109
          ],
          [
           17
          ],
          [
           4
          ],
          [
           34
          ],
          [
           16
          ],
          [
           64
          ],
          [
           1
          ],
          [
           5
          ],
          [
           2
          ],
          [
           25
          ],
          [
           23
          ],
          [
           24
          ],
          [
           15
          ],
          [
           65
          ],
          [
           17
          ],
          [
           10
          ],
          [
           22
          ],
          [
           15
          ],
          [
           1
          ],
          [
           3
          ],
          [
           1
          ],
          [
           1
          ],
          [
           1
          ],
          [
           4
          ],
          [
           1
          ],
          [
           1
          ],
          [
           1
          ],
          [
           1
          ],
          [
           1
          ],
          [
           1
          ],
          [
           6
          ],
          [
           1
          ],
          [
           2
          ],
          [
           15
          ],
          [
           3
          ],
          [
           4
          ],
          [
           3
          ],
          [
           1
          ],
          [
           1
          ],
          [
           1
          ],
          [
           25.375
          ],
          [
           56.472727272727276
          ],
          [
           507.01174168297456
          ],
          [
           653.0030534351145
          ],
          [
           4.142857142857143
          ],
          [
           1
          ],
          [
           2
          ],
          [
           1
          ],
          [
           1
          ],
          [
           1
          ],
          [
           2
          ],
          [
           6
          ],
          [
           1
          ],
          [
           1
          ],
          [
           1
          ],
          [
           27
          ],
          [
           2
          ],
          [
           1
          ],
          [
           340.0632183908046
          ],
          [
           7
          ],
          [
           1
          ],
          [
           139.64864864864865
          ],
          [
           128.64814814814815
          ],
          [
           12
          ],
          [
           2.5
          ],
          [
           1
          ],
          [
           3.5714285714285716
          ],
          [
           1
          ],
          [
           1
          ],
          [
           3.4
          ],
          [
           1
          ],
          [
           1
          ],
          [
           9.428571428571429
          ],
          [
           1
          ],
          [
           1
          ],
          [
           1
          ],
          [
           1
          ],
          [
           1
          ],
          [
           1.6666666666666667
          ],
          [
           1
          ],
          [
           5.875
          ],
          [
           1
          ],
          [
           1
          ],
          [
           1
          ],
          [
           2
          ],
          [
           4
          ],
          [
           1.6666666666666667
          ],
          [
           1.6666666666666667
          ],
          [
           1
          ],
          [
           6.473684210526316
          ],
          [
           1
          ],
          [
           1
          ],
          [
           1.6666666666666667
          ],
          [
           1
          ],
          [
           1
          ],
          [
           1
          ],
          [
           263.9667774086379
          ],
          [
           1
          ],
          [
           1
          ],
          [
           2
          ],
          [
           2.7142857142857144
          ],
          [
           3
          ],
          [
           1
          ],
          [
           2
          ],
          [
           1
          ],
          [
           3.5714285714285716
          ],
          [
           1
          ],
          [
           2.6
          ],
          [
           1
          ],
          [
           1
          ],
          [
           1
          ],
          [
           1
          ],
          [
           563.2167721518987
          ],
          [
           1.5
          ],
          [
           1
          ],
          [
           5
          ],
          [
           4
          ],
          [
           20
          ],
          [
           10.73913043478261
          ],
          [
           34
          ],
          [
           65
          ],
          [
           17
          ],
          [
           30
          ],
          [
           75.65322580645162
          ],
          [
           14.7
          ],
          [
           30
          ],
          [
           20
          ],
          [
           22.959183673469386
          ],
          [
           53
          ],
          [
           21.08695652173913
          ],
          [
           12.68421052631579
          ],
          [
           2.5
          ],
          [
           1
          ],
          [
           3.5714285714285716
          ],
          [
           1
          ],
          [
           1
          ],
          [
           3
          ],
          [
           1
          ],
          [
           1
          ],
          [
           8.933333333333334
          ],
          [
           1
          ],
          [
           1
          ],
          [
           1
          ],
          [
           1
          ],
          [
           1
          ],
          [
           1
          ],
          [
           1.5
          ],
          [
           1
          ],
          [
           5.875
          ],
          [
           1
          ],
          [
           1
          ],
          [
           1
          ],
          [
           2
          ],
          [
           4
          ],
          [
           1.8
          ],
          [
           4.555555555555555
          ],
          [
           1
          ],
          [
           20.48
          ],
          [
           1
          ],
          [
           1
          ],
          [
           1.6666666666666667
          ],
          [
           1
          ],
          [
           1
          ],
          [
           1
          ],
          [
           1
          ],
          [
           1
          ],
          [
           258.63562423749494
          ],
          [
           1
          ],
          [
           2
          ],
          [
           1
          ],
          [
           2
          ],
          [
           2.6
          ],
          [
           3
          ],
          [
           1
          ],
          [
           2
          ],
          [
           1
          ],
          [
           3.5714285714285716
          ],
          [
           1
          ],
          [
           2.6
          ],
          [
           1
          ],
          [
           1
          ],
          [
           1
          ],
          [
           1
          ],
          [
           430.58263665594853
          ],
          [
           1.5
          ],
          [
           1
          ],
          [
           5
          ],
          [
           7
          ],
          [
           9.470588235294118
          ],
          [
           1.5
          ],
          [
           1.6666666666666667
          ],
          [
           2.5
          ],
          [
           1
          ],
          [
           1
          ],
          [
           1.6666666666666667
          ],
          [
           1
          ],
          [
           3.25
          ],
          [
           1
          ],
          [
           1
          ],
          [
           3.5714285714285716
          ],
          [
           2
          ],
          [
           1
          ],
          [
           1.3333333333333333
          ],
          [
           343.2079861111111
          ],
          [
           1.3333333333333333
          ]
         ],
         "domain": {
          "x": [
           0,
           1
          ],
          "y": [
           0,
           1
          ]
         },
         "hovertemplate": "<b>Location Country:</b> %{label[0]}<br><b>Location City:</b> %{label[1]}<br><b>Transaction Type:</b> %{label[2]}<br><b>Category:</b> %{label[3]}<br><b>Transaction Count:</b> %{value}<extra></extra>",
         "ids": [
          "UK/Nottingham/TFR/Account transfer",
          "UK/Swansea/CPT/Amazon",
          "UK/Nottingham/DEB/Amazon",
          "UK/Swansea/DEB/Amazon",
          "UK/Nottingham/DEP/Amazon",
          "UK/Swansea/DEP/Amazon",
          "UK/Nottingham/DD/Bills",
          "UK/Swansea/DD/Bills",
          "UK/Nottingham/DEB/Bills",
          "UK/Swansea/DEB/Bills",
          "UK/Swansea/FEE/Bills",
          "UK/Nottingham/FPO/Bills",
          "UK/Nottingham/PAY/Bills",
          "UK/Swansea/PAY/Bills",
          "UK/Swansea/CHQ/Cash",
          "UK/Belfast/CPT/Cash",
          "UK/Birmingham/CPT/Cash",
          "UK/Bristol/CPT/Cash",
          "UK/Cambridge/CPT/Cash",
          "UK/Cardiff/CPT/Cash",
          "UK/Leeds/CPT/Cash",
          "UK/Leicester/CPT/Cash",
          "UK/London/CPT/Cash",
          "UK/Mansfiled/CPT/Cash",
          "UK/Middleton/CPT/Cash",
          "UK/Nottingham/CPT/Cash",
          "UK/Oakham/CPT/Cash",
          "UK/Plymouth/CPT/Cash",
          "UK/Swansea/CPT/Cash",
          "UK/nottingham/CPT/Cash",
          "UK/swansea/CPT/Cash",
          "UK/Swansea/DEB/Cash",
          "UK/Nottingham/DEB/Clothes",
          "UK/Swansea/DEB/Clothes",
          "Denmark/Aarhus/DEB/Dine Out",
          "Netherlands/Amsterdam/DEB/Dine Out",
          "UK/Bargoed/DEB/Dine Out",
          "UK/Belfast/DEB/Dine Out",
          "UK/Belfast /DEB/Dine Out",
          "UK/Birmingham/DEB/Dine Out",
          "UK/Bristol/DEB/Dine Out",
          "UK/Bushmills/DEB/Dine Out",
          "UK/Cardiff/DEB/Dine Out",
          "UK/Derby/DEB/Dine Out",
          "UK/Leeds/DEB/Dine Out",
          "Portugal/Lisbon/DEB/Dine Out",
          "UK/London/DEB/Dine Out",
          "UK/London/birmingham/DEB/Dine Out",
          "UK/Manchester/DEB/Dine Out",
          "UK/Newcastle upon Tyne/DEB/Dine Out",
          "UK/Nottingham/DEB/Dine Out",
          "UK/Nottingham /DEB/Dine Out",
          "France/Paris/DEB/Dine Out",
          "UK/Plymouth/DEB/Dine Out",
          "UK/Plymouth/Newcatle/DEB/Dine Out",
          "Portugal/Porto/DEB/Dine Out",
          "Italy/Roma/DEB/Dine Out",
          "UK/Sheerness/DEB/Dine Out",
          "UK/Sheffild /DEB/Dine Out",
          "UK/Shrewsbury/DEB/Dine Out",
          "UK/Swansea/DEB/Dine Out",
          "Canada/Vancouver/DEB/Dine Out",
          "UK/Swansea/DEP/Dine Out",
          "UK/Swansea/CPT/Entertainment",
          "UK/Birmingham/DEB/Entertainment",
          "UK/Derby/DEB/Entertainment",
          "UK/London/DEB/Entertainment",
          "UK/Nottingham/DEB/Entertainment",
          "UK/Plymouth/DEB/Entertainment",
          "UK/Reading/DEB/Entertainment",
          "UK/Solihull/DEB/Entertainment",
          "UK/Swansea/DEB/Entertainment",
          "UK/Worcester/DEB/Entertainment",
          "UK/London/FPO/Entertainment",
          "UK/Swansea/FPO/Entertainment",
          "UK/Nottingham/DD/Fitness",
          "UK/Swansea/DD/Fitness",
          "UK/Nottingham/DEB/Fitness",
          "UK/Swansea/DEB/Fitness",
          "UK/Derby/DEB/Groceries",
          "UK/Leicester/DEB/Groceries",
          "UK/Nottingham/DEB/Groceries",
          "UK/Plymouth/DEB/Groceries",
          "Portugal/Porto/DEB/Groceries",
          "Spain/Santa Cruz de Tenerife/DEB/Groceries",
          "UK/Swansea/DEB/Groceries",
          "UK/Lampeter/DEB/Groceries ",
          "UK/Swansea/DEB/Health",
          "UK/Nottingham/DD/Home Improvement",
          "UK/Swansea/DD/Home Improvement",
          "UK/swansea/DD/Home Improvement",
          "UK/Nottingham/DEB/Home Improvement",
          "UK/Swansea/DEB/Home Improvement",
          "UK/swansea/DEB/Home Improvement",
          "UK/Nottingham/FPO/Home Improvement",
          "UK/Nottingham/SO/Home Improvement",
          "Spain/Almería/DEB/Hotels",
          "UK/Birmingham/DEB/Hotels",
          "UK/Cardiff/DEB/Hotels",
          "UK/Derby/DEB/Hotels",
          "Italy/Genova/DEB/Hotels",
          "Spain/Illes Balears/DEB/Hotels",
          "UK/Leeds/DEB/Hotels",
          "UK/London/DEB/Hotels",
          "Greece/Malia/DEB/Hotels",
          "Moldova/New Brighton/DEB/Hotels",
          "UK/Nottingham/DEB/Hotels",
          "USA/Phoenix/DEB/Hotels",
          "UK/Plymouth/DEB/Hotels",
          "Czech Republic/Prague/DEB/Hotels",
          "Spain/Santa Cruz de Tenerife/DEB/Hotels",
          "Canada/Vancouver/DEB/Hotels",
          "UK/Swansea/BP/Insurance",
          "UK/Swansea/DD/Insurance",
          "UK/Swansea/DEB/Insurance",
          "UK/Swansea/DEP/Insurance",
          "UK/Swansea/DEP/Interest",
          "UK/Nottingham/BP/Investment",
          "UK/Nottingham/DD/Investment",
          "UK/Nottingham/DEB/Investment",
          "UK/Swansea/DEB/Investment",
          "UK/Nottingham/FPO/Investment",
          "UK/Nottingham/DD/Mortgage",
          "UK/Swansea/DD/Mortgage",
          "UK/Swansea/DEB/Mortgage",
          "UK/Nottingham/FPO/Mortgage",
          "UK/Swansea/CPT/Other Shopping",
          "UK/Nottingham/DD/Other Shopping",
          "UK/Swansea/DD/Other Shopping",
          "USA/Boston/DEB/Other Shopping",
          "UK/Leicester/DEB/Other Shopping",
          "UK/London/DEB/Other Shopping",
          "UK/Nottingham/DEB/Other Shopping",
          "UK/Plymouth/DEB/Other Shopping",
          "Portugal/Setubal/DEB/Other Shopping",
          "UK/Swansea/DEB/Other Shopping",
          "UK/Nottingham/DD/Others",
          "UK/Swansea/DD/Others",
          "UK/Nottingham/DEB/Others",
          "UK/Swansea/DEB/Others",
          "UK/Nottingham/FPO/Others",
          "UK/Swansea/FPO/Others",
          "UK/Nottingham/BGC/Paycheck",
          "UK/Swansea/BGC/Paycheck",
          "UK/Swansea/DEB/Purchase of uk.eg.org",
          "UK/Swansea/DEB/Rent",
          "UK/Nottingham/FPO/Safety Deposit Return",
          "UK/Nottingham/BP/Savings",
          "UK/Swansea/BP/Savings",
          "UK/Swansea/DD/Savings",
          "UK/Nottingham/FPO/Savings",
          "UK/Nottingham/SO/Savings",
          "UK/Swansea/SO/Savings",
          "UK/Swansea/DD/Services",
          "UK/Nottingham/DEB/Services",
          "UK/Swansea/DEB/Services",
          "UK/Nottingham/FPO/Services",
          "UK/Swansea/FPO/Services",
          "UK/Swansea/TFR/Services",
          "UK/Nottingham/FPO/Services/Home Improvement",
          "UK/Nottingham/BGC/Supplementary Income",
          "UK/Swansea/BGC/Supplementary Income",
          "UK/Nottingham/BP/Supplementary Income",
          "UK/Swansea/CHQ/Supplementary Income",
          "UK/Swansea/DD/Supplementary Income",
          "UK/Nottingham/DEB/Supplementary Income",
          "UK/Swansea/DEB/Supplementary Income",
          "UK/Nottingham/DEP/Supplementary Income",
          "UK/Swansea/DEP/Supplementary Income",
          "UK/Nottingham/FPI/Supplementary Income",
          "UK/Swansea/FPI/Supplementary Income",
          "UK/Nottingham/SO/Supplementary Income",
          "UK/Nottingham/TFR/Supplementary Income",
          "UK/Swansea/TFR/Supplementary Income",
          "Denmark/Aarhus/DEB/Travel",
          "Netherlands/Amsterdam/DEB/Travel",
          "USA/Baltimore/DEB/Travel",
          "UK/Belfast/DEB/Travel",
          "Germany/Berlin/DEB/Travel",
          "UK/Birmingham/DEB/Travel",
          "UK/Bristol/DEB/Travel",
          "Czech Republic/Brno/DEB/Travel",
          "Hungary/Budapest/DEB/Travel",
          "Morocco/Casablanca/DEB/Travel",
          "USA/Houston/DEB/Travel",
          "USA/Huston/DEB/Travel",
          "UK/London/DEB/Travel",
          "Spain/Madrid/DEB/Travel",
          "Greece/Malia/DEB/Travel",
          "UK/Nottingham/DEB/Travel",
          "UK/Plymouth/DEB/Travel",
          "Italy/Roma/DEB/Travel",
          "Portugal/Setubal/DEB/Travel",
          "Canada/Vancouver/DEB/Travel",
          "Prague/Vinohrady/DEB/Travel",
          "UK/Nottingham/BGC/Travel Reimbursement",
          "UK/Nottingham/BGC",
          "UK/Swansea/BGC",
          "UK/Nottingham/BP",
          "UK/Swansea/BP",
          "UK/Swansea/CHQ",
          "UK/Belfast/CPT",
          "UK/Birmingham/CPT",
          "UK/Bristol/CPT",
          "UK/Cambridge/CPT",
          "UK/Cardiff/CPT",
          "UK/Leeds/CPT",
          "UK/Leicester/CPT",
          "UK/London/CPT",
          "UK/Mansfiled/CPT",
          "UK/Middleton/CPT",
          "UK/Nottingham/CPT",
          "UK/Oakham/CPT",
          "UK/Plymouth/CPT",
          "UK/Swansea/CPT",
          "UK/nottingham/CPT",
          "UK/swansea/CPT",
          "UK/Nottingham/DD",
          "UK/Swansea/DD",
          "UK/swansea/DD",
          "Denmark/Aarhus/DEB",
          "Spain/Almería/DEB",
          "Netherlands/Amsterdam/DEB",
          "USA/Baltimore/DEB",
          "UK/Bargoed/DEB",
          "UK/Belfast/DEB",
          "UK/Belfast /DEB",
          "Germany/Berlin/DEB",
          "UK/Birmingham/DEB",
          "USA/Boston/DEB",
          "UK/Bristol/DEB",
          "Czech Republic/Brno/DEB",
          "Hungary/Budapest/DEB",
          "UK/Bushmills/DEB",
          "UK/Cardiff/DEB",
          "Morocco/Casablanca/DEB",
          "UK/Derby/DEB",
          "Italy/Genova/DEB",
          "USA/Houston/DEB",
          "USA/Huston/DEB",
          "Spain/Illes Balears/DEB",
          "UK/Lampeter/DEB",
          "UK/Leeds/DEB",
          "UK/Leicester/DEB",
          "Portugal/Lisbon/DEB",
          "UK/London/DEB",
          "UK/London/birmingham/DEB",
          "Spain/Madrid/DEB",
          "Greece/Malia/DEB",
          "UK/Manchester/DEB",
          "Moldova/New Brighton/DEB",
          "UK/Newcastle upon Tyne/DEB",
          "UK/Nottingham/DEB",
          "UK/Nottingham /DEB",
          "France/Paris/DEB",
          "USA/Phoenix/DEB",
          "UK/Plymouth/DEB",
          "UK/Plymouth/Newcatle/DEB",
          "Portugal/Porto/DEB",
          "Czech Republic/Prague/DEB",
          "UK/Reading/DEB",
          "Italy/Roma/DEB",
          "Spain/Santa Cruz de Tenerife/DEB",
          "Portugal/Setubal/DEB",
          "UK/Sheerness/DEB",
          "UK/Sheffild /DEB",
          "UK/Shrewsbury/DEB",
          "UK/Solihull/DEB",
          "UK/Swansea/DEB",
          "Canada/Vancouver/DEB",
          "Prague/Vinohrady/DEB",
          "UK/Worcester/DEB",
          "UK/swansea/DEB",
          "UK/Nottingham/DEP",
          "UK/Swansea/DEP",
          "UK/Swansea/FEE",
          "UK/Nottingham/FPI",
          "UK/Swansea/FPI",
          "UK/London/FPO",
          "UK/Nottingham/FPO",
          "UK/Swansea/FPO",
          "UK/Nottingham/PAY",
          "UK/Swansea/PAY",
          "UK/Nottingham/SO",
          "UK/Swansea/SO",
          "UK/Nottingham/TFR",
          "UK/Swansea/TFR",
          "Denmark/Aarhus",
          "Spain/Almería",
          "Netherlands/Amsterdam",
          "USA/Baltimore",
          "UK/Bargoed",
          "UK/Belfast",
          "UK/Belfast ",
          "Germany/Berlin",
          "UK/Birmingham",
          "USA/Boston",
          "UK/Bristol",
          "Czech Republic/Brno",
          "Hungary/Budapest",
          "UK/Bushmills",
          "UK/Cambridge",
          "UK/Cardiff",
          "Morocco/Casablanca",
          "UK/Derby",
          "Italy/Genova",
          "USA/Houston",
          "USA/Huston",
          "Spain/Illes Balears",
          "UK/Lampeter",
          "UK/Leeds",
          "UK/Leicester",
          "Portugal/Lisbon",
          "UK/London",
          "UK/London/birmingham",
          "Spain/Madrid",
          "Greece/Malia",
          "UK/Manchester",
          "UK/Mansfiled",
          "UK/Middleton",
          "Moldova/New Brighton",
          "UK/Newcastle upon Tyne",
          "UK/Nottingham",
          "UK/Nottingham ",
          "UK/Oakham",
          "France/Paris",
          "USA/Phoenix",
          "UK/Plymouth",
          "UK/Plymouth/Newcatle",
          "Portugal/Porto",
          "Czech Republic/Prague",
          "UK/Reading",
          "Italy/Roma",
          "Spain/Santa Cruz de Tenerife",
          "Portugal/Setubal",
          "UK/Sheerness",
          "UK/Sheffild ",
          "UK/Shrewsbury",
          "UK/Solihull",
          "UK/Swansea",
          "Canada/Vancouver",
          "Prague/Vinohrady",
          "UK/Worcester",
          "UK/nottingham",
          "UK/swansea",
          "Canada",
          "Czech Republic",
          "Denmark",
          "France",
          "Germany",
          "Greece",
          "Hungary",
          "Italy",
          "Moldova",
          "Morocco",
          "Netherlands",
          "Portugal",
          "Prague",
          "Spain",
          "UK",
          "USA"
         ],
         "labels": [
          "Account transfer",
          "Amazon",
          "Amazon",
          "Amazon",
          "Amazon",
          "Amazon",
          "Bills",
          "Bills",
          "Bills",
          "Bills",
          "Bills",
          "Bills",
          "Bills",
          "Bills",
          "Cash",
          "Cash",
          "Cash",
          "Cash",
          "Cash",
          "Cash",
          "Cash",
          "Cash",
          "Cash",
          "Cash",
          "Cash",
          "Cash",
          "Cash",
          "Cash",
          "Cash",
          "Cash",
          "Cash",
          "Cash",
          "Clothes",
          "Clothes",
          "Dine Out",
          "Dine Out",
          "Dine Out",
          "Dine Out",
          "Dine Out",
          "Dine Out",
          "Dine Out",
          "Dine Out",
          "Dine Out",
          "Dine Out",
          "Dine Out",
          "Dine Out",
          "Dine Out",
          "Dine Out",
          "Dine Out",
          "Dine Out",
          "Dine Out",
          "Dine Out",
          "Dine Out",
          "Dine Out",
          "Dine Out",
          "Dine Out",
          "Dine Out",
          "Dine Out",
          "Dine Out",
          "Dine Out",
          "Dine Out",
          "Dine Out",
          "Dine Out",
          "Entertainment",
          "Entertainment",
          "Entertainment",
          "Entertainment",
          "Entertainment",
          "Entertainment",
          "Entertainment",
          "Entertainment",
          "Entertainment",
          "Entertainment",
          "Entertainment",
          "Entertainment",
          "Fitness",
          "Fitness",
          "Fitness",
          "Fitness",
          "Groceries",
          "Groceries",
          "Groceries",
          "Groceries",
          "Groceries",
          "Groceries",
          "Groceries",
          "Groceries ",
          "Health",
          "Home Improvement",
          "Home Improvement",
          "Home Improvement",
          "Home Improvement",
          "Home Improvement",
          "Home Improvement",
          "Home Improvement",
          "Home Improvement",
          "Hotels",
          "Hotels",
          "Hotels",
          "Hotels",
          "Hotels",
          "Hotels",
          "Hotels",
          "Hotels",
          "Hotels",
          "Hotels",
          "Hotels",
          "Hotels",
          "Hotels",
          "Hotels",
          "Hotels",
          "Hotels",
          "Insurance",
          "Insurance",
          "Insurance",
          "Insurance",
          "Interest",
          "Investment",
          "Investment",
          "Investment",
          "Investment",
          "Investment",
          "Mortgage",
          "Mortgage",
          "Mortgage",
          "Mortgage",
          "Other Shopping",
          "Other Shopping",
          "Other Shopping",
          "Other Shopping",
          "Other Shopping",
          "Other Shopping",
          "Other Shopping",
          "Other Shopping",
          "Other Shopping",
          "Other Shopping",
          "Others",
          "Others",
          "Others",
          "Others",
          "Others",
          "Others",
          "Paycheck",
          "Paycheck",
          "Purchase of uk.eg.org",
          "Rent",
          "Safety Deposit Return",
          "Savings",
          "Savings",
          "Savings",
          "Savings",
          "Savings",
          "Savings",
          "Services",
          "Services",
          "Services",
          "Services",
          "Services",
          "Services",
          "Services/Home Improvement",
          "Supplementary Income",
          "Supplementary Income",
          "Supplementary Income",
          "Supplementary Income",
          "Supplementary Income",
          "Supplementary Income",
          "Supplementary Income",
          "Supplementary Income",
          "Supplementary Income",
          "Supplementary Income",
          "Supplementary Income",
          "Supplementary Income",
          "Supplementary Income",
          "Supplementary Income",
          "Travel",
          "Travel",
          "Travel",
          "Travel",
          "Travel",
          "Travel",
          "Travel",
          "Travel",
          "Travel",
          "Travel",
          "Travel",
          "Travel",
          "Travel",
          "Travel",
          "Travel",
          "Travel",
          "Travel",
          "Travel",
          "Travel",
          "Travel",
          "Travel",
          "Travel Reimbursement",
          "BGC",
          "BGC",
          "BP",
          "BP",
          "CHQ",
          "CPT",
          "CPT",
          "CPT",
          "CPT",
          "CPT",
          "CPT",
          "CPT",
          "CPT",
          "CPT",
          "CPT",
          "CPT",
          "CPT",
          "CPT",
          "CPT",
          "CPT",
          "CPT",
          "DD",
          "DD",
          "DD",
          "DEB",
          "DEB",
          "DEB",
          "DEB",
          "DEB",
          "DEB",
          "DEB",
          "DEB",
          "DEB",
          "DEB",
          "DEB",
          "DEB",
          "DEB",
          "DEB",
          "DEB",
          "DEB",
          "DEB",
          "DEB",
          "DEB",
          "DEB",
          "DEB",
          "DEB",
          "DEB",
          "DEB",
          "DEB",
          "DEB",
          "DEB",
          "DEB",
          "DEB",
          "DEB",
          "DEB",
          "DEB",
          "DEB",
          "DEB",
          "DEB",
          "DEB",
          "DEB",
          "DEB",
          "DEB",
          "DEB",
          "DEB",
          "DEB",
          "DEB",
          "DEB",
          "DEB",
          "DEB",
          "DEB",
          "DEB",
          "DEB",
          "DEB",
          "DEB",
          "DEB",
          "DEB",
          "DEP",
          "DEP",
          "FEE",
          "FPI",
          "FPI",
          "FPO",
          "FPO",
          "FPO",
          "PAY",
          "PAY",
          "SO",
          "SO",
          "TFR",
          "TFR",
          "Aarhus",
          "Almería",
          "Amsterdam",
          "Baltimore",
          "Bargoed",
          "Belfast",
          "Belfast ",
          "Berlin",
          "Birmingham",
          "Boston",
          "Bristol",
          "Brno",
          "Budapest",
          "Bushmills",
          "Cambridge",
          "Cardiff",
          "Casablanca",
          "Derby",
          "Genova",
          "Houston",
          "Huston",
          "Illes Balears",
          "Lampeter",
          "Leeds",
          "Leicester",
          "Lisbon",
          "London",
          "London/birmingham",
          "Madrid",
          "Malia",
          "Manchester",
          "Mansfiled",
          "Middleton",
          "New Brighton",
          "Newcastle upon Tyne",
          "Nottingham",
          "Nottingham ",
          "Oakham",
          "Paris",
          "Phoenix",
          "Plymouth",
          "Plymouth/Newcatle",
          "Porto",
          "Prague",
          "Reading",
          "Roma",
          "Santa Cruz de Tenerife",
          "Setubal",
          "Sheerness",
          "Sheffild ",
          "Shrewsbury",
          "Solihull",
          "Swansea",
          "Vancouver",
          "Vinohrady",
          "Worcester",
          "nottingham",
          "swansea",
          "Canada",
          "Czech Republic",
          "Denmark",
          "France",
          "Germany",
          "Greece",
          "Hungary",
          "Italy",
          "Moldova",
          "Morocco",
          "Netherlands",
          "Portugal",
          "Prague",
          "Spain",
          "UK",
          "USA"
         ],
         "marker": {
          "coloraxis": "coloraxis",
          "colors": [
           1,
           1,
           379,
           802,
           8,
           4,
           173,
           206,
           6,
           4,
           34,
           1,
           30,
           20,
           2,
           1,
           2,
           1,
           1,
           1,
           2,
           6,
           1,
           1,
           1,
           27,
           2,
           1,
           344,
           7,
           1,
           1,
           2,
           2,
           3,
           4,
           1,
           4,
           1,
           10,
           1,
           1,
           1,
           5,
           1,
           1,
           2,
           1,
           1,
           1,
           245,
           1,
           1,
           2,
           3,
           1,
           3,
           1,
           1,
           1,
           68,
           1,
           1,
           1,
           2,
           2,
           9,
           61,
           4,
           1,
           1,
           39,
           5,
           30,
           1,
           5,
           13,
           5,
           2,
           8,
           1,
           321,
           2,
           1,
           1,
           29,
           4,
           1,
           1,
           19,
           12,
           22,
           14,
           4,
           10,
           8,
           1,
           12,
           2,
           1,
           1,
           2,
           2,
           1,
           1,
           1,
           2,
           2,
           1,
           2,
           1,
           2,
           1,
           136,
           3,
           2,
           1,
           1,
           1,
           70,
           6,
           73,
           2,
           53,
           1,
           2,
           2,
           31,
           53,
           1,
           2,
           1,
           10,
           2,
           2,
           1,
           9,
           48,
           29,
           246,
           17,
           2,
           31,
           46,
           1,
           1,
           1,
           509,
           654,
           1,
           1,
           31,
           53,
           9,
           12,
           20,
           109,
           17,
           4,
           34,
           16,
           64,
           1,
           5,
           2,
           25,
           23,
           24,
           15,
           65,
           17,
           10,
           22,
           15,
           1,
           3,
           1,
           1,
           1,
           4,
           1,
           1,
           1,
           1,
           1,
           1,
           6,
           1,
           2,
           15,
           3,
           4,
           3,
           1,
           1,
           1,
           25.375,
           56.472727272727276,
           507.01174168297456,
           653.0030534351145,
           4.142857142857143,
           1,
           2,
           1,
           1,
           1,
           2,
           6,
           1,
           1,
           1,
           27,
           2,
           1,
           340.0632183908046,
           7,
           1,
           139.64864864864865,
           128.64814814814815,
           12,
           2.5,
           1,
           3.5714285714285716,
           1,
           1,
           3.4,
           1,
           1,
           9.428571428571429,
           1,
           1,
           1,
           1,
           1,
           1.6666666666666667,
           1,
           5.875,
           1,
           1,
           1,
           2,
           4,
           1.6666666666666667,
           1.6666666666666667,
           1,
           6.473684210526316,
           1,
           1,
           1.6666666666666667,
           1,
           1,
           1,
           263.9667774086379,
           1,
           1,
           2,
           2.7142857142857144,
           3,
           1,
           2,
           1,
           3.5714285714285716,
           1,
           2.6,
           1,
           1,
           1,
           1,
           563.2167721518987,
           1.5,
           1,
           5,
           4,
           20,
           10.73913043478261,
           34,
           65,
           17,
           30,
           75.65322580645162,
           14.7,
           30,
           20,
           22.959183673469386,
           53,
           21.08695652173913,
           12.68421052631579,
           2.5,
           1,
           3.5714285714285716,
           1,
           1,
           3,
           1,
           1,
           8.933333333333334,
           1,
           1,
           1,
           1,
           1,
           1,
           1.5,
           1,
           5.875,
           1,
           1,
           1,
           2,
           4,
           1.8,
           4.555555555555555,
           1,
           20.48,
           1,
           1,
           1.6666666666666667,
           1,
           1,
           1,
           1,
           1,
           258.63562423749494,
           1,
           2,
           1,
           2,
           2.6,
           3,
           1,
           2,
           1,
           3.5714285714285716,
           1,
           2.6,
           1,
           1,
           1,
           1,
           430.58263665594853,
           1.5,
           1,
           5,
           7,
           9.470588235294118,
           1.5,
           1.6666666666666667,
           2.5,
           1,
           1,
           1.6666666666666667,
           1,
           3.25,
           1,
           1,
           3.5714285714285716,
           2,
           1,
           1.3333333333333333,
           343.2079861111111,
           1.3333333333333333
          ]
         },
         "name": "",
         "parents": [
          "UK/Nottingham/TFR",
          "UK/Swansea/CPT",
          "UK/Nottingham/DEB",
          "UK/Swansea/DEB",
          "UK/Nottingham/DEP",
          "UK/Swansea/DEP",
          "UK/Nottingham/DD",
          "UK/Swansea/DD",
          "UK/Nottingham/DEB",
          "UK/Swansea/DEB",
          "UK/Swansea/FEE",
          "UK/Nottingham/FPO",
          "UK/Nottingham/PAY",
          "UK/Swansea/PAY",
          "UK/Swansea/CHQ",
          "UK/Belfast/CPT",
          "UK/Birmingham/CPT",
          "UK/Bristol/CPT",
          "UK/Cambridge/CPT",
          "UK/Cardiff/CPT",
          "UK/Leeds/CPT",
          "UK/Leicester/CPT",
          "UK/London/CPT",
          "UK/Mansfiled/CPT",
          "UK/Middleton/CPT",
          "UK/Nottingham/CPT",
          "UK/Oakham/CPT",
          "UK/Plymouth/CPT",
          "UK/Swansea/CPT",
          "UK/nottingham/CPT",
          "UK/swansea/CPT",
          "UK/Swansea/DEB",
          "UK/Nottingham/DEB",
          "UK/Swansea/DEB",
          "Denmark/Aarhus/DEB",
          "Netherlands/Amsterdam/DEB",
          "UK/Bargoed/DEB",
          "UK/Belfast/DEB",
          "UK/Belfast /DEB",
          "UK/Birmingham/DEB",
          "UK/Bristol/DEB",
          "UK/Bushmills/DEB",
          "UK/Cardiff/DEB",
          "UK/Derby/DEB",
          "UK/Leeds/DEB",
          "Portugal/Lisbon/DEB",
          "UK/London/DEB",
          "UK/London/birmingham/DEB",
          "UK/Manchester/DEB",
          "UK/Newcastle upon Tyne/DEB",
          "UK/Nottingham/DEB",
          "UK/Nottingham /DEB",
          "France/Paris/DEB",
          "UK/Plymouth/DEB",
          "UK/Plymouth/Newcatle/DEB",
          "Portugal/Porto/DEB",
          "Italy/Roma/DEB",
          "UK/Sheerness/DEB",
          "UK/Sheffild /DEB",
          "UK/Shrewsbury/DEB",
          "UK/Swansea/DEB",
          "Canada/Vancouver/DEB",
          "UK/Swansea/DEP",
          "UK/Swansea/CPT",
          "UK/Birmingham/DEB",
          "UK/Derby/DEB",
          "UK/London/DEB",
          "UK/Nottingham/DEB",
          "UK/Plymouth/DEB",
          "UK/Reading/DEB",
          "UK/Solihull/DEB",
          "UK/Swansea/DEB",
          "UK/Worcester/DEB",
          "UK/London/FPO",
          "UK/Swansea/FPO",
          "UK/Nottingham/DD",
          "UK/Swansea/DD",
          "UK/Nottingham/DEB",
          "UK/Swansea/DEB",
          "UK/Derby/DEB",
          "UK/Leicester/DEB",
          "UK/Nottingham/DEB",
          "UK/Plymouth/DEB",
          "Portugal/Porto/DEB",
          "Spain/Santa Cruz de Tenerife/DEB",
          "UK/Swansea/DEB",
          "UK/Lampeter/DEB",
          "UK/Swansea/DEB",
          "UK/Nottingham/DD",
          "UK/Swansea/DD",
          "UK/swansea/DD",
          "UK/Nottingham/DEB",
          "UK/Swansea/DEB",
          "UK/swansea/DEB",
          "UK/Nottingham/FPO",
          "UK/Nottingham/SO",
          "Spain/Almería/DEB",
          "UK/Birmingham/DEB",
          "UK/Cardiff/DEB",
          "UK/Derby/DEB",
          "Italy/Genova/DEB",
          "Spain/Illes Balears/DEB",
          "UK/Leeds/DEB",
          "UK/London/DEB",
          "Greece/Malia/DEB",
          "Moldova/New Brighton/DEB",
          "UK/Nottingham/DEB",
          "USA/Phoenix/DEB",
          "UK/Plymouth/DEB",
          "Czech Republic/Prague/DEB",
          "Spain/Santa Cruz de Tenerife/DEB",
          "Canada/Vancouver/DEB",
          "UK/Swansea/BP",
          "UK/Swansea/DD",
          "UK/Swansea/DEB",
          "UK/Swansea/DEP",
          "UK/Swansea/DEP",
          "UK/Nottingham/BP",
          "UK/Nottingham/DD",
          "UK/Nottingham/DEB",
          "UK/Swansea/DEB",
          "UK/Nottingham/FPO",
          "UK/Nottingham/DD",
          "UK/Swansea/DD",
          "UK/Swansea/DEB",
          "UK/Nottingham/FPO",
          "UK/Swansea/CPT",
          "UK/Nottingham/DD",
          "UK/Swansea/DD",
          "USA/Boston/DEB",
          "UK/Leicester/DEB",
          "UK/London/DEB",
          "UK/Nottingham/DEB",
          "UK/Plymouth/DEB",
          "Portugal/Setubal/DEB",
          "UK/Swansea/DEB",
          "UK/Nottingham/DD",
          "UK/Swansea/DD",
          "UK/Nottingham/DEB",
          "UK/Swansea/DEB",
          "UK/Nottingham/FPO",
          "UK/Swansea/FPO",
          "UK/Nottingham/BGC",
          "UK/Swansea/BGC",
          "UK/Swansea/DEB",
          "UK/Swansea/DEB",
          "UK/Nottingham/FPO",
          "UK/Nottingham/BP",
          "UK/Swansea/BP",
          "UK/Swansea/DD",
          "UK/Nottingham/FPO",
          "UK/Nottingham/SO",
          "UK/Swansea/SO",
          "UK/Swansea/DD",
          "UK/Nottingham/DEB",
          "UK/Swansea/DEB",
          "UK/Nottingham/FPO",
          "UK/Swansea/FPO",
          "UK/Swansea/TFR",
          "UK/Nottingham/FPO",
          "UK/Nottingham/BGC",
          "UK/Swansea/BGC",
          "UK/Nottingham/BP",
          "UK/Swansea/CHQ",
          "UK/Swansea/DD",
          "UK/Nottingham/DEB",
          "UK/Swansea/DEB",
          "UK/Nottingham/DEP",
          "UK/Swansea/DEP",
          "UK/Nottingham/FPI",
          "UK/Swansea/FPI",
          "UK/Nottingham/SO",
          "UK/Nottingham/TFR",
          "UK/Swansea/TFR",
          "Denmark/Aarhus/DEB",
          "Netherlands/Amsterdam/DEB",
          "USA/Baltimore/DEB",
          "UK/Belfast/DEB",
          "Germany/Berlin/DEB",
          "UK/Birmingham/DEB",
          "UK/Bristol/DEB",
          "Czech Republic/Brno/DEB",
          "Hungary/Budapest/DEB",
          "Morocco/Casablanca/DEB",
          "USA/Houston/DEB",
          "USA/Huston/DEB",
          "UK/London/DEB",
          "Spain/Madrid/DEB",
          "Greece/Malia/DEB",
          "UK/Nottingham/DEB",
          "UK/Plymouth/DEB",
          "Italy/Roma/DEB",
          "Portugal/Setubal/DEB",
          "Canada/Vancouver/DEB",
          "Prague/Vinohrady/DEB",
          "UK/Nottingham/BGC",
          "UK/Nottingham",
          "UK/Swansea",
          "UK/Nottingham",
          "UK/Swansea",
          "UK/Swansea",
          "UK/Belfast",
          "UK/Birmingham",
          "UK/Bristol",
          "UK/Cambridge",
          "UK/Cardiff",
          "UK/Leeds",
          "UK/Leicester",
          "UK/London",
          "UK/Mansfiled",
          "UK/Middleton",
          "UK/Nottingham",
          "UK/Oakham",
          "UK/Plymouth",
          "UK/Swansea",
          "UK/nottingham",
          "UK/swansea",
          "UK/Nottingham",
          "UK/Swansea",
          "UK/swansea",
          "Denmark/Aarhus",
          "Spain/Almería",
          "Netherlands/Amsterdam",
          "USA/Baltimore",
          "UK/Bargoed",
          "UK/Belfast",
          "UK/Belfast ",
          "Germany/Berlin",
          "UK/Birmingham",
          "USA/Boston",
          "UK/Bristol",
          "Czech Republic/Brno",
          "Hungary/Budapest",
          "UK/Bushmills",
          "UK/Cardiff",
          "Morocco/Casablanca",
          "UK/Derby",
          "Italy/Genova",
          "USA/Houston",
          "USA/Huston",
          "Spain/Illes Balears",
          "UK/Lampeter",
          "UK/Leeds",
          "UK/Leicester",
          "Portugal/Lisbon",
          "UK/London",
          "UK/London/birmingham",
          "Spain/Madrid",
          "Greece/Malia",
          "UK/Manchester",
          "Moldova/New Brighton",
          "UK/Newcastle upon Tyne",
          "UK/Nottingham",
          "UK/Nottingham ",
          "France/Paris",
          "USA/Phoenix",
          "UK/Plymouth",
          "UK/Plymouth/Newcatle",
          "Portugal/Porto",
          "Czech Republic/Prague",
          "UK/Reading",
          "Italy/Roma",
          "Spain/Santa Cruz de Tenerife",
          "Portugal/Setubal",
          "UK/Sheerness",
          "UK/Sheffild ",
          "UK/Shrewsbury",
          "UK/Solihull",
          "UK/Swansea",
          "Canada/Vancouver",
          "Prague/Vinohrady",
          "UK/Worcester",
          "UK/swansea",
          "UK/Nottingham",
          "UK/Swansea",
          "UK/Swansea",
          "UK/Nottingham",
          "UK/Swansea",
          "UK/London",
          "UK/Nottingham",
          "UK/Swansea",
          "UK/Nottingham",
          "UK/Swansea",
          "UK/Nottingham",
          "UK/Swansea",
          "UK/Nottingham",
          "UK/Swansea",
          "Denmark",
          "Spain",
          "Netherlands",
          "USA",
          "UK",
          "UK",
          "UK",
          "Germany",
          "UK",
          "USA",
          "UK",
          "Czech Republic",
          "Hungary",
          "UK",
          "UK",
          "UK",
          "Morocco",
          "UK",
          "Italy",
          "USA",
          "USA",
          "Spain",
          "UK",
          "UK",
          "UK",
          "Portugal",
          "UK",
          "UK",
          "Spain",
          "Greece",
          "UK",
          "UK",
          "UK",
          "Moldova",
          "UK",
          "UK",
          "UK",
          "UK",
          "France",
          "USA",
          "UK",
          "UK",
          "Portugal",
          "Czech Republic",
          "UK",
          "Italy",
          "Spain",
          "Portugal",
          "UK",
          "UK",
          "UK",
          "UK",
          "UK",
          "Canada",
          "Prague",
          "UK",
          "UK",
          "UK",
          "",
          "",
          "",
          "",
          "",
          "",
          "",
          "",
          "",
          "",
          "",
          "",
          "",
          "",
          "",
          ""
         ],
         "type": "treemap",
         "values": [
          1,
          1,
          379,
          802,
          8,
          4,
          173,
          206,
          6,
          4,
          34,
          1,
          30,
          20,
          2,
          1,
          2,
          1,
          1,
          1,
          2,
          6,
          1,
          1,
          1,
          27,
          2,
          1,
          344,
          7,
          1,
          1,
          2,
          2,
          3,
          4,
          1,
          4,
          1,
          10,
          1,
          1,
          1,
          5,
          1,
          1,
          2,
          1,
          1,
          1,
          245,
          1,
          1,
          2,
          3,
          1,
          3,
          1,
          1,
          1,
          68,
          1,
          1,
          1,
          2,
          2,
          9,
          61,
          4,
          1,
          1,
          39,
          5,
          30,
          1,
          5,
          13,
          5,
          2,
          8,
          1,
          321,
          2,
          1,
          1,
          29,
          4,
          1,
          1,
          19,
          12,
          22,
          14,
          4,
          10,
          8,
          1,
          12,
          2,
          1,
          1,
          2,
          2,
          1,
          1,
          1,
          2,
          2,
          1,
          2,
          1,
          2,
          1,
          136,
          3,
          2,
          1,
          1,
          1,
          70,
          6,
          73,
          2,
          53,
          1,
          2,
          2,
          31,
          53,
          1,
          2,
          1,
          10,
          2,
          2,
          1,
          9,
          48,
          29,
          246,
          17,
          2,
          31,
          46,
          1,
          1,
          1,
          509,
          654,
          1,
          1,
          31,
          53,
          9,
          12,
          20,
          109,
          17,
          4,
          34,
          16,
          64,
          1,
          5,
          2,
          25,
          23,
          24,
          15,
          65,
          17,
          10,
          22,
          15,
          1,
          3,
          1,
          1,
          1,
          4,
          1,
          1,
          1,
          1,
          1,
          1,
          6,
          1,
          2,
          15,
          3,
          4,
          3,
          1,
          1,
          1,
          48,
          110,
          511,
          655,
          7,
          1,
          2,
          1,
          1,
          1,
          2,
          6,
          1,
          1,
          1,
          27,
          2,
          1,
          348,
          7,
          1,
          222,
          540,
          12,
          4,
          1,
          7,
          1,
          1,
          5,
          1,
          1,
          28,
          1,
          2,
          1,
          1,
          1,
          3,
          1,
          16,
          1,
          1,
          1,
          2,
          4,
          3,
          3,
          1,
          19,
          1,
          1,
          3,
          1,
          1,
          1,
          1204,
          1,
          1,
          2,
          14,
          3,
          2,
          2,
          1,
          7,
          2,
          5,
          1,
          1,
          1,
          1,
          1264,
          4,
          1,
          5,
          4,
          32,
          23,
          34,
          65,
          17,
          30,
          248,
          20,
          30,
          20,
          49,
          53,
          23,
          19,
          4,
          1,
          7,
          1,
          1,
          6,
          1,
          1,
          30,
          1,
          3,
          1,
          1,
          1,
          1,
          4,
          1,
          16,
          1,
          1,
          1,
          2,
          4,
          5,
          9,
          1,
          50,
          1,
          1,
          3,
          1,
          1,
          1,
          1,
          1,
          2459,
          1,
          2,
          1,
          2,
          15,
          3,
          2,
          2,
          1,
          7,
          2,
          5,
          1,
          1,
          1,
          1,
          3110,
          4,
          1,
          5,
          7,
          17,
          4,
          3,
          4,
          1,
          1,
          3,
          1,
          8,
          1,
          1,
          7,
          8,
          1,
          6,
          5760,
          6
         ]
        }
       ],
       "layout": {
        "coloraxis": {
         "colorbar": {
          "title": {
           "text": "Transaction Count"
          }
         },
         "colorscale": [
          [
           0,
           "rgb(247,252,245)"
          ],
          [
           0.125,
           "rgb(229,245,224)"
          ],
          [
           0.25,
           "rgb(199,233,192)"
          ],
          [
           0.375,
           "rgb(161,217,155)"
          ],
          [
           0.5,
           "rgb(116,196,118)"
          ],
          [
           0.625,
           "rgb(65,171,93)"
          ],
          [
           0.75,
           "rgb(35,139,69)"
          ],
          [
           0.875,
           "rgb(0,109,44)"
          ],
          [
           1,
           "rgb(0,68,27)"
          ]
         ]
        },
        "height": 1200,
        "legend": {
         "tracegroupgap": 0
        },
        "template": {
         "data": {
          "bar": [
           {
            "error_x": {
             "color": "#2a3f5f"
            },
            "error_y": {
             "color": "#2a3f5f"
            },
            "marker": {
             "line": {
              "color": "#E5ECF6",
              "width": 0.5
             },
             "pattern": {
              "fillmode": "overlay",
              "size": 10,
              "solidity": 0.2
             }
            },
            "type": "bar"
           }
          ],
          "barpolar": [
           {
            "marker": {
             "line": {
              "color": "#E5ECF6",
              "width": 0.5
             },
             "pattern": {
              "fillmode": "overlay",
              "size": 10,
              "solidity": 0.2
             }
            },
            "type": "barpolar"
           }
          ],
          "carpet": [
           {
            "aaxis": {
             "endlinecolor": "#2a3f5f",
             "gridcolor": "white",
             "linecolor": "white",
             "minorgridcolor": "white",
             "startlinecolor": "#2a3f5f"
            },
            "baxis": {
             "endlinecolor": "#2a3f5f",
             "gridcolor": "white",
             "linecolor": "white",
             "minorgridcolor": "white",
             "startlinecolor": "#2a3f5f"
            },
            "type": "carpet"
           }
          ],
          "choropleth": [
           {
            "colorbar": {
             "outlinewidth": 0,
             "ticks": ""
            },
            "type": "choropleth"
           }
          ],
          "contour": [
           {
            "colorbar": {
             "outlinewidth": 0,
             "ticks": ""
            },
            "colorscale": [
             [
              0,
              "#0d0887"
             ],
             [
              0.1111111111111111,
              "#46039f"
             ],
             [
              0.2222222222222222,
              "#7201a8"
             ],
             [
              0.3333333333333333,
              "#9c179e"
             ],
             [
              0.4444444444444444,
              "#bd3786"
             ],
             [
              0.5555555555555556,
              "#d8576b"
             ],
             [
              0.6666666666666666,
              "#ed7953"
             ],
             [
              0.7777777777777778,
              "#fb9f3a"
             ],
             [
              0.8888888888888888,
              "#fdca26"
             ],
             [
              1,
              "#f0f921"
             ]
            ],
            "type": "contour"
           }
          ],
          "contourcarpet": [
           {
            "colorbar": {
             "outlinewidth": 0,
             "ticks": ""
            },
            "type": "contourcarpet"
           }
          ],
          "heatmap": [
           {
            "colorbar": {
             "outlinewidth": 0,
             "ticks": ""
            },
            "colorscale": [
             [
              0,
              "#0d0887"
             ],
             [
              0.1111111111111111,
              "#46039f"
             ],
             [
              0.2222222222222222,
              "#7201a8"
             ],
             [
              0.3333333333333333,
              "#9c179e"
             ],
             [
              0.4444444444444444,
              "#bd3786"
             ],
             [
              0.5555555555555556,
              "#d8576b"
             ],
             [
              0.6666666666666666,
              "#ed7953"
             ],
             [
              0.7777777777777778,
              "#fb9f3a"
             ],
             [
              0.8888888888888888,
              "#fdca26"
             ],
             [
              1,
              "#f0f921"
             ]
            ],
            "type": "heatmap"
           }
          ],
          "heatmapgl": [
           {
            "colorbar": {
             "outlinewidth": 0,
             "ticks": ""
            },
            "colorscale": [
             [
              0,
              "#0d0887"
             ],
             [
              0.1111111111111111,
              "#46039f"
             ],
             [
              0.2222222222222222,
              "#7201a8"
             ],
             [
              0.3333333333333333,
              "#9c179e"
             ],
             [
              0.4444444444444444,
              "#bd3786"
             ],
             [
              0.5555555555555556,
              "#d8576b"
             ],
             [
              0.6666666666666666,
              "#ed7953"
             ],
             [
              0.7777777777777778,
              "#fb9f3a"
             ],
             [
              0.8888888888888888,
              "#fdca26"
             ],
             [
              1,
              "#f0f921"
             ]
            ],
            "type": "heatmapgl"
           }
          ],
          "histogram": [
           {
            "marker": {
             "pattern": {
              "fillmode": "overlay",
              "size": 10,
              "solidity": 0.2
             }
            },
            "type": "histogram"
           }
          ],
          "histogram2d": [
           {
            "colorbar": {
             "outlinewidth": 0,
             "ticks": ""
            },
            "colorscale": [
             [
              0,
              "#0d0887"
             ],
             [
              0.1111111111111111,
              "#46039f"
             ],
             [
              0.2222222222222222,
              "#7201a8"
             ],
             [
              0.3333333333333333,
              "#9c179e"
             ],
             [
              0.4444444444444444,
              "#bd3786"
             ],
             [
              0.5555555555555556,
              "#d8576b"
             ],
             [
              0.6666666666666666,
              "#ed7953"
             ],
             [
              0.7777777777777778,
              "#fb9f3a"
             ],
             [
              0.8888888888888888,
              "#fdca26"
             ],
             [
              1,
              "#f0f921"
             ]
            ],
            "type": "histogram2d"
           }
          ],
          "histogram2dcontour": [
           {
            "colorbar": {
             "outlinewidth": 0,
             "ticks": ""
            },
            "colorscale": [
             [
              0,
              "#0d0887"
             ],
             [
              0.1111111111111111,
              "#46039f"
             ],
             [
              0.2222222222222222,
              "#7201a8"
             ],
             [
              0.3333333333333333,
              "#9c179e"
             ],
             [
              0.4444444444444444,
              "#bd3786"
             ],
             [
              0.5555555555555556,
              "#d8576b"
             ],
             [
              0.6666666666666666,
              "#ed7953"
             ],
             [
              0.7777777777777778,
              "#fb9f3a"
             ],
             [
              0.8888888888888888,
              "#fdca26"
             ],
             [
              1,
              "#f0f921"
             ]
            ],
            "type": "histogram2dcontour"
           }
          ],
          "mesh3d": [
           {
            "colorbar": {
             "outlinewidth": 0,
             "ticks": ""
            },
            "type": "mesh3d"
           }
          ],
          "parcoords": [
           {
            "line": {
             "colorbar": {
              "outlinewidth": 0,
              "ticks": ""
             }
            },
            "type": "parcoords"
           }
          ],
          "pie": [
           {
            "automargin": true,
            "type": "pie"
           }
          ],
          "scatter": [
           {
            "fillpattern": {
             "fillmode": "overlay",
             "size": 10,
             "solidity": 0.2
            },
            "type": "scatter"
           }
          ],
          "scatter3d": [
           {
            "line": {
             "colorbar": {
              "outlinewidth": 0,
              "ticks": ""
             }
            },
            "marker": {
             "colorbar": {
              "outlinewidth": 0,
              "ticks": ""
             }
            },
            "type": "scatter3d"
           }
          ],
          "scattercarpet": [
           {
            "marker": {
             "colorbar": {
              "outlinewidth": 0,
              "ticks": ""
             }
            },
            "type": "scattercarpet"
           }
          ],
          "scattergeo": [
           {
            "marker": {
             "colorbar": {
              "outlinewidth": 0,
              "ticks": ""
             }
            },
            "type": "scattergeo"
           }
          ],
          "scattergl": [
           {
            "marker": {
             "colorbar": {
              "outlinewidth": 0,
              "ticks": ""
             }
            },
            "type": "scattergl"
           }
          ],
          "scattermapbox": [
           {
            "marker": {
             "colorbar": {
              "outlinewidth": 0,
              "ticks": ""
             }
            },
            "type": "scattermapbox"
           }
          ],
          "scatterpolar": [
           {
            "marker": {
             "colorbar": {
              "outlinewidth": 0,
              "ticks": ""
             }
            },
            "type": "scatterpolar"
           }
          ],
          "scatterpolargl": [
           {
            "marker": {
             "colorbar": {
              "outlinewidth": 0,
              "ticks": ""
             }
            },
            "type": "scatterpolargl"
           }
          ],
          "scatterternary": [
           {
            "marker": {
             "colorbar": {
              "outlinewidth": 0,
              "ticks": ""
             }
            },
            "type": "scatterternary"
           }
          ],
          "surface": [
           {
            "colorbar": {
             "outlinewidth": 0,
             "ticks": ""
            },
            "colorscale": [
             [
              0,
              "#0d0887"
             ],
             [
              0.1111111111111111,
              "#46039f"
             ],
             [
              0.2222222222222222,
              "#7201a8"
             ],
             [
              0.3333333333333333,
              "#9c179e"
             ],
             [
              0.4444444444444444,
              "#bd3786"
             ],
             [
              0.5555555555555556,
              "#d8576b"
             ],
             [
              0.6666666666666666,
              "#ed7953"
             ],
             [
              0.7777777777777778,
              "#fb9f3a"
             ],
             [
              0.8888888888888888,
              "#fdca26"
             ],
             [
              1,
              "#f0f921"
             ]
            ],
            "type": "surface"
           }
          ],
          "table": [
           {
            "cells": {
             "fill": {
              "color": "#EBF0F8"
             },
             "line": {
              "color": "white"
             }
            },
            "header": {
             "fill": {
              "color": "#C8D4E3"
             },
             "line": {
              "color": "white"
             }
            },
            "type": "table"
           }
          ]
         },
         "layout": {
          "annotationdefaults": {
           "arrowcolor": "#2a3f5f",
           "arrowhead": 0,
           "arrowwidth": 1
          },
          "autotypenumbers": "strict",
          "coloraxis": {
           "colorbar": {
            "outlinewidth": 0,
            "ticks": ""
           }
          },
          "colorscale": {
           "diverging": [
            [
             0,
             "#8e0152"
            ],
            [
             0.1,
             "#c51b7d"
            ],
            [
             0.2,
             "#de77ae"
            ],
            [
             0.3,
             "#f1b6da"
            ],
            [
             0.4,
             "#fde0ef"
            ],
            [
             0.5,
             "#f7f7f7"
            ],
            [
             0.6,
             "#e6f5d0"
            ],
            [
             0.7,
             "#b8e186"
            ],
            [
             0.8,
             "#7fbc41"
            ],
            [
             0.9,
             "#4d9221"
            ],
            [
             1,
             "#276419"
            ]
           ],
           "sequential": [
            [
             0,
             "#0d0887"
            ],
            [
             0.1111111111111111,
             "#46039f"
            ],
            [
             0.2222222222222222,
             "#7201a8"
            ],
            [
             0.3333333333333333,
             "#9c179e"
            ],
            [
             0.4444444444444444,
             "#bd3786"
            ],
            [
             0.5555555555555556,
             "#d8576b"
            ],
            [
             0.6666666666666666,
             "#ed7953"
            ],
            [
             0.7777777777777778,
             "#fb9f3a"
            ],
            [
             0.8888888888888888,
             "#fdca26"
            ],
            [
             1,
             "#f0f921"
            ]
           ],
           "sequentialminus": [
            [
             0,
             "#0d0887"
            ],
            [
             0.1111111111111111,
             "#46039f"
            ],
            [
             0.2222222222222222,
             "#7201a8"
            ],
            [
             0.3333333333333333,
             "#9c179e"
            ],
            [
             0.4444444444444444,
             "#bd3786"
            ],
            [
             0.5555555555555556,
             "#d8576b"
            ],
            [
             0.6666666666666666,
             "#ed7953"
            ],
            [
             0.7777777777777778,
             "#fb9f3a"
            ],
            [
             0.8888888888888888,
             "#fdca26"
            ],
            [
             1,
             "#f0f921"
            ]
           ]
          },
          "colorway": [
           "#636efa",
           "#EF553B",
           "#00cc96",
           "#ab63fa",
           "#FFA15A",
           "#19d3f3",
           "#FF6692",
           "#B6E880",
           "#FF97FF",
           "#FECB52"
          ],
          "font": {
           "color": "#2a3f5f"
          },
          "geo": {
           "bgcolor": "white",
           "lakecolor": "white",
           "landcolor": "#E5ECF6",
           "showlakes": true,
           "showland": true,
           "subunitcolor": "white"
          },
          "hoverlabel": {
           "align": "left"
          },
          "hovermode": "closest",
          "mapbox": {
           "style": "light"
          },
          "paper_bgcolor": "white",
          "plot_bgcolor": "#E5ECF6",
          "polar": {
           "angularaxis": {
            "gridcolor": "white",
            "linecolor": "white",
            "ticks": ""
           },
           "bgcolor": "#E5ECF6",
           "radialaxis": {
            "gridcolor": "white",
            "linecolor": "white",
            "ticks": ""
           }
          },
          "scene": {
           "xaxis": {
            "backgroundcolor": "#E5ECF6",
            "gridcolor": "white",
            "gridwidth": 2,
            "linecolor": "white",
            "showbackground": true,
            "ticks": "",
            "zerolinecolor": "white"
           },
           "yaxis": {
            "backgroundcolor": "#E5ECF6",
            "gridcolor": "white",
            "gridwidth": 2,
            "linecolor": "white",
            "showbackground": true,
            "ticks": "",
            "zerolinecolor": "white"
           },
           "zaxis": {
            "backgroundcolor": "#E5ECF6",
            "gridcolor": "white",
            "gridwidth": 2,
            "linecolor": "white",
            "showbackground": true,
            "ticks": "",
            "zerolinecolor": "white"
           }
          },
          "shapedefaults": {
           "line": {
            "color": "#2a3f5f"
           }
          },
          "ternary": {
           "aaxis": {
            "gridcolor": "white",
            "linecolor": "white",
            "ticks": ""
           },
           "baxis": {
            "gridcolor": "white",
            "linecolor": "white",
            "ticks": ""
           },
           "bgcolor": "#E5ECF6",
           "caxis": {
            "gridcolor": "white",
            "linecolor": "white",
            "ticks": ""
           }
          },
          "title": {
           "x": 0.05
          },
          "xaxis": {
           "automargin": true,
           "gridcolor": "white",
           "linecolor": "white",
           "ticks": "",
           "title": {
            "standoff": 15
           },
           "zerolinecolor": "white",
           "zerolinewidth": 2
          },
          "yaxis": {
           "automargin": true,
           "gridcolor": "white",
           "linecolor": "white",
           "ticks": "",
           "title": {
            "standoff": 15
           },
           "zerolinecolor": "white",
           "zerolinewidth": 2
          }
         }
        },
        "title": {
         "text": "Major Expense Categories by Transaction Types and Location"
        },
        "width": 1600
       }
      }
     },
     "metadata": {},
     "output_type": "display_data"
    }
   ],
   "source": [
    "import pandas as pd\n",
    "import plotly.express as px\n",
    "\n",
    "# Read the dataset\n",
    "df = pd.read_csv('your_dataset.csv')\n",
    "\n",
    "# Group data by transaction type, location country, location city, and category\n",
    "grouped_data = df.groupby(['Transaction Type', 'Location Country', 'Location City', 'Category']).size().reset_index(name='Transaction Count')\n",
    "\n",
    "# Create the treemap\n",
    "fig = px.treemap(grouped_data, \n",
    "                 path=['Location Country', 'Location City', 'Transaction Type', 'Category'],\n",
    "                 values='Transaction Count',\n",
    "                 color='Transaction Count',\n",
    "                 color_continuous_scale='greens',\n",
    "                 title='Major Expense Categories by Transaction Types and Location')\n",
    "\n",
    "# Set layout options\n",
    "fig.update_layout(height=1200, width=1600)\n",
    "\n",
    "# Update hover template to include additional information\n",
    "fig.update_traces(hovertemplate=\n",
    "    '<b>Location Country:</b> %{label[0]}<br>' +\n",
    "    '<b>Location City:</b> %{label[1]}<br>' +\n",
    "    '<b>Transaction Type:</b> %{label[2]}<br>' +\n",
    "    '<b>Category:</b> %{label[3]}<br>' +\n",
    "    '<b>Transaction Count:</b> %{value}<extra></extra>')\n",
    "\n",
    "# Show the treemap\n",
    "fig.show()\n"
   ]
  }
 ],
 "metadata": {
  "kernelspec": {
   "display_name": "Python 3",
   "language": "python",
   "name": "python3"
  },
  "language_info": {
   "codemirror_mode": {
    "name": "ipython",
    "version": 3
   },
   "file_extension": ".py",
   "mimetype": "text/x-python",
   "name": "python",
   "nbconvert_exporter": "python",
   "pygments_lexer": "ipython3",
   "version": "3.11.2"
  },
  "orig_nbformat": 4
 },
 "nbformat": 4,
 "nbformat_minor": 2
}
