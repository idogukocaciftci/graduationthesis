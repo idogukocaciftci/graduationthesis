{
 "cells": [
  {
   "cell_type": "code",
   "execution_count": 1,
   "metadata": {},
   "outputs": [
    {
     "name": "stderr",
     "output_type": "stream",
     "text": [
      "C:\\Users\\dogu\\AppData\\Local\\Temp\\ipykernel_26724\\4201587271.py:8: UserWarning: Parsing dates in DD/MM/YYYY format when dayfirst=False (the default) was specified. This may lead to inconsistently parsed dates! Specify a format to ensure consistent parsing.\n",
      "  df['Transaction Date'] = pd.to_datetime(df['Transaction Date'], infer_datetime_format=True)\n",
      "C:\\Users\\dogu\\AppData\\Local\\Temp\\ipykernel_26724\\4201587271.py:18: FutureWarning: The default value of numeric_only in DataFrameGroupBy.sum is deprecated. In a future version, numeric_only will default to False. Either specify numeric_only or select only columns which should be valid for the function.\n",
      "  lockdown_grouped = df.groupby(['Lockdown', 'Transaction Type', 'Category', 'Location Country', 'Location City']).sum().reset_index()\n"
     ]
    },
    {
     "data": {
      "application/vnd.plotly.v1+json": {
       "config": {
        "plotlyServerURL": "https://plot.ly"
       },
       "data": [
        {
         "branchvalues": "total",
         "customdata": [
          [
           1.19
          ],
          [
           2.94
          ],
          [
           524.4
          ],
          [
           13.690000000000001
          ],
          [
           505.13
          ],
          [
           793
          ],
          [
           50
          ],
          [
           20
          ],
          [
           40
          ],
          [
           40
          ],
          [
           50
          ],
          [
           50
          ],
          [
           40
          ],
          [
           130
          ],
          [
           50
          ],
          [
           650
          ],
          [
           50
          ],
          [
           100
          ],
          [
           40
          ],
          [
           1070
          ],
          [
           40
          ],
          [
           287.75
          ],
          [
           40
          ],
          [
           590
          ],
          [
           18619.01
          ],
          [
           280
          ],
          [
           60
          ],
          [
           99.01
          ],
          [
           100
          ],
          [
           26682.85
          ],
          [
           1264.99
          ],
          [
           269.4
          ],
          [
           13682.75
          ],
          [
           104.96
          ],
          [
           39.99
          ],
          [
           194.92000000000002
          ],
          [
           18
          ],
          [
           356.25
          ],
          [
           18
          ],
          [
           168.75
          ],
          [
           24.82
          ],
          [
           4485.84
          ],
          [
           25.5
          ],
          [
           1918.19
          ],
          [
           959.09
          ],
          [
           46840.59
          ],
          [
           532.79
          ],
          [
           18.39
          ],
          [
           1141.36
          ],
          [
           208.08
          ],
          [
           24.76
          ],
          [
           1058.8
          ],
          [
           39.74
          ],
          [
           201.33
          ],
          [
           42.519999999999996
          ],
          [
           8512.539999999999
          ],
          [
           116.36
          ],
          [
           12575.149999999998
          ],
          [
           210.9
          ],
          [
           180.23
          ],
          [
           180
          ],
          [
           110.49
          ],
          [
           11.22
          ],
          [
           37.989999999999995
          ],
          [
           65.98
          ],
          [
           56.22999999999999
          ],
          [
           6.52
          ],
          [
           62.66
          ],
          [
           465
          ],
          [
           119.2
          ],
          [
           9.98
          ],
          [
           115.81
          ],
          [
           104.03
          ],
          [
           5.25
          ],
          [
           5.2
          ],
          [
           28.45
          ],
          [
           17.5
          ],
          [
           2.95
          ],
          [
           32.02
          ],
          [
           45.95
          ],
          [
           8.79
          ],
          [
           15.05
          ],
          [
           267.3
          ],
          [
           24.899999999999995
          ],
          [
           2314.45
          ],
          [
           116.6
          ],
          [
           9.6
          ],
          [
           9.51
          ],
          [
           25.9
          ],
          [
           13.02
          ],
          [
           59.25
          ],
          [
           42.89
          ],
          [
           26.95
          ],
          [
           2.5
          ],
          [
           8.6
          ],
          [
           108.51
          ],
          [
           1142.44
          ],
          [
           68.98
          ],
          [
           14
          ],
          [
           8.8
          ],
          [
           49.519999999999996
          ],
          [
           144.06
          ],
          [
           779.58
          ],
          [
           368.94999999999993
          ],
          [
           10
          ],
          [
           5.55
          ],
          [
           100.53
          ],
          [
           517.2
          ],
          [
           29.75
          ],
          [
           344.99
          ],
          [
           37.98
          ],
          [
           184.89
          ],
          [
           27.66
          ],
          [
           4851.95
          ],
          [
           42.1
          ],
          [
           20.65
          ],
          [
           13.34
          ],
          [
           4590.58
          ],
          [
           500.35
          ],
          [
           50
          ],
          [
           4560.62
          ],
          [
           1853.8600000000001
          ],
          [
           130
          ],
          [
           462.94
          ],
          [
           607.58
          ],
          [
           112.7
          ],
          [
           394.99
          ],
          [
           24.899999999999995
          ],
          [
           45
          ],
          [
           12.55
          ],
          [
           740.63
          ],
          [
           339.47
          ],
          [
           201.6
          ],
          [
           114
          ],
          [
           966.29
          ],
          [
           58
          ],
          [
           196.24
          ],
          [
           89
          ],
          [
           1263.19
          ],
          [
           10
          ],
          [
           340.73
          ],
          [
           140
          ],
          [
           1263.93
          ],
          [
           320
          ],
          [
           60428.25
          ],
          [
           21058.23
          ],
          [
           10100
          ],
          [
           1030
          ],
          [
           47.01
          ],
          [
           84.98
          ],
          [
           4.89
          ],
          [
           250.75
          ],
          [
           9.99
          ],
          [
           79
          ],
          [
           148.28
          ],
          [
           208.38
          ],
          [
           348.15000000000003
          ],
          [
           41.21
          ],
          [
           3966.02
          ],
          [
           45.75
          ],
          [
           178.8
          ],
          [
           266.02
          ],
          [
           5738.7699999999995
          ],
          [
           285.28000000000003
          ],
          [
           67.08
          ],
          [
           21.48
          ],
          [
           61.230000000000004
          ],
          [
           819.22
          ],
          [
           23
          ],
          [
           740.63
          ],
          [
           13.7
          ],
          [
           86.2
          ],
          [
           94
          ],
          [
           7.51
          ],
          [
           35.16
          ],
          [
           82.69
          ],
          [
           72.51
          ],
          [
           18.59
          ],
          [
           59.6
          ],
          [
           207.55
          ],
          [
           281.04
          ],
          [
           292.26
          ],
          [
           232.9
          ],
          [
           103.76000000000002
          ],
          [
           344.6
          ],
          [
           177.86
          ],
          [
           114.02
          ],
          [
           337.94
          ],
          [
           200
          ],
          [
           164
          ],
          [
           60
          ],
          [
           4201.1
          ],
          [
           36999.96
          ],
          [
           5644.83
          ],
          [
           4129
          ],
          [
           578
          ],
          [
           370
          ],
          [
           400
          ],
          [
           6252.1900000000005
          ],
          [
           70
          ],
          [
           6671
          ],
          [
           895
          ],
          [
           90
          ],
          [
           3
          ],
          [
           57
          ],
          [
           6600
          ],
          [
           9300
          ],
          [
           15900
          ],
          [
           84000
          ],
          [
           4717
          ],
          [
           84000
          ],
          [
           8512.539999999999
          ],
          [
           116.36
          ],
          [
           12525.546034898594
          ],
          [
           26194.585475973694
          ],
          [
           1129.712122029864
          ],
          [
           232.0631299734748
          ],
          [
           13204.463718827927
          ],
          [
           20
          ],
          [
           40
          ],
          [
           40
          ],
          [
           50
          ],
          [
           50
          ],
          [
           40
          ],
          [
           130
          ],
          [
           50
          ],
          [
           650
          ],
          [
           50
          ],
          [
           100
          ],
          [
           40
          ],
          [
           1070
          ],
          [
           40
          ],
          [
           287.75
          ],
          [
           40
          ],
          [
           590
          ],
          [
           17880.47138753441
          ],
          [
           280
          ],
          [
           60
          ],
          [
           37.989999999999995
          ],
          [
           65.98
          ],
          [
           56.22999999999999
          ],
          [
           6.52
          ],
          [
           62.66
          ],
          [
           465
          ],
          [
           119.2
          ],
          [
           9.98
          ],
          [
           115.81
          ],
          [
           104.03
          ],
          [
           5.25
          ],
          [
           5.2
          ],
          [
           28.45
          ],
          [
           17.5
          ],
          [
           2.95
          ],
          [
           32.02
          ],
          [
           45.95
          ],
          [
           8.79
          ],
          [
           15.05
          ],
          [
           267.3
          ],
          [
           24.899999999999995
          ],
          [
           2314.45
          ],
          [
           116.6
          ],
          [
           9.6
          ],
          [
           9.51
          ],
          [
           25.9
          ],
          [
           13.02
          ],
          [
           59.25
          ],
          [
           42.89
          ],
          [
           26.95
          ],
          [
           2.5
          ],
          [
           8.6
          ],
          [
           108.51
          ],
          [
           1142.44
          ],
          [
           68.98
          ],
          [
           14
          ],
          [
           8.8
          ],
          [
           137.44956163357065
          ],
          [
           144.06
          ],
          [
           779.58
          ],
          [
           368.94999999999993
          ],
          [
           10
          ],
          [
           5.55
          ],
          [
           100.53
          ],
          [
           415.40175404090445
          ],
          [
           29.75
          ],
          [
           288.99811467940884
          ],
          [
           39.99
          ],
          [
           169.32712237011597
          ],
          [
           184.89
          ],
          [
           27.66
          ],
          [
           4851.95
          ],
          [
           42.1
          ],
          [
           20.65
          ],
          [
           13.34
          ],
          [
           4590.58
          ],
          [
           500.35
          ],
          [
           50
          ],
          [
           5332.270027958896
          ],
          [
           1612.4586387555373
          ],
          [
           116.37837837837837
          ],
          [
           384.3499281293039
          ],
          [
           607.58
          ],
          [
           112.7
          ],
          [
           394.99
          ],
          [
           24.899999999999995
          ],
          [
           45
          ],
          [
           12.55
          ],
          [
           740.63
          ],
          [
           339.47
          ],
          [
           201.6
          ],
          [
           114
          ],
          [
           966.29
          ],
          [
           58
          ],
          [
           196.24
          ],
          [
           89
          ],
          [
           1263.19
          ],
          [
           10
          ],
          [
           340.73
          ],
          [
           140
          ],
          [
           1263.93
          ],
          [
           24.82
          ],
          [
           4207.413292968839
          ],
          [
           51515.94167209421
          ],
          [
           21058.23
          ],
          [
           10100
          ],
          [
           1918.19
          ],
          [
           5644.83
          ],
          [
           959.09
          ],
          [
           45854.913665114625
          ],
          [
           47.01
          ],
          [
           84.98
          ],
          [
           4.89
          ],
          [
           442.5310087551369
          ],
          [
           9.99
          ],
          [
           79
          ],
          [
           148.28
          ],
          [
           18.39
          ],
          [
           935.426265399313
          ],
          [
           3673.9171201627246
          ],
          [
           35.03595118993483
          ],
          [
           3067.10836335988
          ],
          [
           45.75
          ],
          [
           178.8
          ],
          [
           370
          ],
          [
           8501.72091858691
          ],
          [
           13.690000000000001
          ],
          [
           15388.795143075016
          ],
          [
           6007.883519631923
          ],
          [
           70
          ],
          [
           5755.180595783727
          ],
          [
           895
          ],
          [
           285.28000000000003
          ],
          [
           57.55179562043795
          ],
          [
           21.48
          ],
          [
           61.230000000000004
          ],
          [
           819.22
          ],
          [
           23
          ],
          [
           740.63
          ],
          [
           13.7
          ],
          [
           86.2
          ],
          [
           94
          ],
          [
           7.51
          ],
          [
           35.16
          ],
          [
           82.69
          ],
          [
           72.51
          ],
          [
           18.59
          ],
          [
           59.6
          ],
          [
           207.55
          ],
          [
           281.04
          ],
          [
           292.26
          ],
          [
           232.9
          ],
          [
           103.76000000000002
          ],
          [
           344.6
          ],
          [
           177.86
          ],
          [
           114.02
          ],
          [
           46.6246725003217
          ],
          [
           607.58
          ],
          [
           6.52
          ],
          [
           61.953252885624345
          ],
          [
           819.22
          ],
          [
           465
          ],
          [
           93.32700369913688
          ],
          [
           9.98
          ],
          [
           740.63
          ],
          [
           94.85478579386248
          ],
          [
           281.2926345926234
          ],
          [
           47.01
          ],
          [
           76.13777219430486
          ],
          [
           7.51
          ],
          [
           35.16
          ],
          [
           5.2
          ],
          [
           50
          ],
          [
           24.899999999999995
          ],
          [
           39.086844424856764
          ],
          [
           82.69
          ],
          [
           155.2047224456959
          ],
          [
           740.63
          ],
          [
           72.51
          ],
          [
           18.59
          ],
          [
           339.47
          ],
          [
           500.35
          ],
          [
           2.95
          ],
          [
           173.5300361881785
          ],
          [
           42.04320885912954
          ],
          [
           584.6711480584505
          ],
          [
           32.02
          ],
          [
           119.09345211075805
          ],
          [
           105.93361057245316
          ],
          [
           15.05
          ],
          [
           207.55
          ],
          [
           811.8940823198352
          ],
          [
           267.3
          ],
          [
           100
          ],
          [
           40
          ],
          [
           58
          ],
          [
           24.899999999999995
          ],
          [
           48926.62023591849
          ],
          [
           16792.39678870872
          ],
          [
           9.6
          ],
          [
           287.75
          ],
          [
           9.51
          ],
          [
           1263.19
          ],
          [
           251.29965888464665
          ],
          [
           13.02
          ],
          [
           49.27390488110137
          ],
          [
           340.73
          ],
          [
           10
          ],
          [
           85.95765223320834
          ],
          [
           128.98105908438765
          ],
          [
           285.538302223665
          ],
          [
           26.95
          ],
          [
           2.5
          ],
          [
           8.6
          ],
          [
           5.55
          ],
          [
           554.0820396913759
          ],
          [
           21413.32557816512
          ],
          [
           1081.5090747764386
          ],
          [
           114.02
          ],
          [
           29.75
          ],
          [
           280
          ],
          [
           116.37837837837837
          ],
          [
           356.2144979687432
          ],
          [
           47917.303611381365
          ],
          [
           19371.74318737608
          ]
         ],
         "domain": {
          "x": [
           0,
           1
          ],
          "y": [
           0,
           1
          ]
         },
         "hovertemplate": "labels=%{label}<br>Debit Amount_sum=%{value}<br>parent=%{parent}<br>id=%{id}<br>Debit Amount=%{color}<extra></extra>",
         "ids": [
          "Non-Lockdown/Swansea/Insurance/BP",
          "Lockdown/Nottingham/Investment/BP",
          "Lockdown/Nottingham/Savings/BP",
          "Lockdown/Swansea/Savings/BP",
          "Non-Lockdown/Swansea/Savings/BP",
          "Non-Lockdown/Swansea/Cash/CHQ",
          "Non-Lockdown/Swansea/Amazon/CPT",
          "Lockdown/Belfast/Cash/CPT",
          "Lockdown/Birmingham/Cash/CPT",
          "Non-Lockdown/Birmingham/Cash/CPT",
          "Non-Lockdown/Bristol/Cash/CPT",
          "Non-Lockdown/Cambridge/Cash/CPT",
          "Non-Lockdown/Cardiff/Cash/CPT",
          "Non-Lockdown/Leeds/Cash/CPT",
          "Lockdown/Leicester/Cash/CPT",
          "Non-Lockdown/Leicester/Cash/CPT",
          "Non-Lockdown/London/Cash/CPT",
          "Lockdown/Mansfiled/Cash/CPT",
          "Lockdown/Middleton/Cash/CPT",
          "Lockdown/Nottingham/Cash/CPT",
          "Non-Lockdown/Nottingham/Cash/CPT",
          "Non-Lockdown/Oakham/Cash/CPT",
          "Lockdown/Plymouth/Cash/CPT",
          "Lockdown/Swansea/Cash/CPT",
          "Non-Lockdown/Swansea/Cash/CPT",
          "Lockdown/nottingham/Cash/CPT",
          "Non-Lockdown/swansea/Cash/CPT",
          "Non-Lockdown/Swansea/Entertainment/CPT",
          "Non-Lockdown/Swansea/Other Shopping/CPT",
          "Lockdown/Nottingham/Bills/DD",
          "Non-Lockdown/Nottingham/Bills/DD",
          "Lockdown/Swansea/Bills/DD",
          "Non-Lockdown/Swansea/Bills/DD",
          "Lockdown/Nottingham/Fitness/DD",
          "Lockdown/Swansea/Fitness/DD",
          "Non-Lockdown/Swansea/Fitness/DD",
          "Lockdown/Nottingham/Home Improvement/DD",
          "Non-Lockdown/Swansea/Home Improvement/DD",
          "Lockdown/swansea/Home Improvement/DD",
          "Non-Lockdown/swansea/Home Improvement/DD",
          "Lockdown/Swansea/Insurance/DD",
          "Non-Lockdown/Swansea/Insurance/DD",
          "Lockdown/Nottingham/Investment/DD",
          "Lockdown/Nottingham/Mortgage/DD",
          "Lockdown/Swansea/Mortgage/DD",
          "Non-Lockdown/Swansea/Mortgage/DD",
          "Lockdown/Nottingham/Other Shopping/DD",
          "Lockdown/Swansea/Other Shopping/DD",
          "Non-Lockdown/Swansea/Other Shopping/DD",
          "Lockdown/Nottingham/Others/DD",
          "Lockdown/Swansea/Others/DD",
          "Non-Lockdown/Swansea/Others/DD",
          "Non-Lockdown/Swansea/Savings/DD",
          "Non-Lockdown/Swansea/Services/DD",
          "Non-Lockdown/Swansea/Supplementary Income/DD",
          "Lockdown/Nottingham/Amazon/DEB",
          "Lockdown/Swansea/Amazon/DEB",
          "Non-Lockdown/Swansea/Amazon/DEB",
          "Lockdown/Nottingham/Bills/DEB",
          "Non-Lockdown/Nottingham/Bills/DEB",
          "Lockdown/Swansea/Bills/DEB",
          "Non-Lockdown/Swansea/Bills/DEB",
          "Non-Lockdown/Swansea/Cash/DEB",
          "Lockdown/Nottingham/Clothes/DEB",
          "Non-Lockdown/Swansea/Clothes/DEB",
          "Non-Lockdown/Aarhus/Dine Out/DEB",
          "Lockdown/Amsterdam/Dine Out/DEB",
          "Non-Lockdown/Amsterdam/Dine Out/DEB",
          "Lockdown/Bargoed/Dine Out/DEB",
          "Lockdown/Belfast/Dine Out/DEB",
          "Lockdown/Belfast /Dine Out/DEB",
          "Lockdown/Birmingham/Dine Out/DEB",
          "Non-Lockdown/Birmingham/Dine Out/DEB",
          "Non-Lockdown/Bristol/Dine Out/DEB",
          "Lockdown/Bushmills/Dine Out/DEB",
          "Non-Lockdown/Cardiff/Dine Out/DEB",
          "Lockdown/Derby/Dine Out/DEB",
          "Lockdown/Leeds/Dine Out/DEB",
          "Non-Lockdown/Lisbon/Dine Out/DEB",
          "Lockdown/London/Dine Out/DEB",
          "Non-Lockdown/London/Dine Out/DEB",
          "Lockdown/London/birmingham/Dine Out/DEB",
          "Non-Lockdown/Manchester/Dine Out/DEB",
          "Lockdown/Newcastle upon Tyne/Dine Out/DEB",
          "Lockdown/Nottingham/Dine Out/DEB",
          "Non-Lockdown/Nottingham/Dine Out/DEB",
          "Lockdown/Nottingham /Dine Out/DEB",
          "Non-Lockdown/Paris/Dine Out/DEB",
          "Lockdown/Plymouth/Dine Out/DEB",
          "Lockdown/Plymouth/Newcatle/Dine Out/DEB",
          "Non-Lockdown/Porto/Dine Out/DEB",
          "Lockdown/Roma/Dine Out/DEB",
          "Non-Lockdown/Sheerness/Dine Out/DEB",
          "Lockdown/Sheffild /Dine Out/DEB",
          "Non-Lockdown/Shrewsbury/Dine Out/DEB",
          "Lockdown/Swansea/Dine Out/DEB",
          "Non-Lockdown/Swansea/Dine Out/DEB",
          "Non-Lockdown/Vancouver/Dine Out/DEB",
          "Lockdown/Birmingham/Entertainment/DEB",
          "Lockdown/Derby/Entertainment/DEB",
          "Lockdown/London/Entertainment/DEB",
          "Non-Lockdown/London/Entertainment/DEB",
          "Lockdown/Nottingham/Entertainment/DEB",
          "Lockdown/Plymouth/Entertainment/DEB",
          "Lockdown/Reading/Entertainment/DEB",
          "Lockdown/Solihull/Entertainment/DEB",
          "Lockdown/Swansea/Entertainment/DEB",
          "Non-Lockdown/Swansea/Entertainment/DEB",
          "Non-Lockdown/Worcester/Entertainment/DEB",
          "Lockdown/Nottingham/Fitness/DEB",
          "Non-Lockdown/Swansea/Fitness/DEB",
          "Lockdown/Derby/Groceries/DEB",
          "Lockdown/Leicester/Groceries/DEB",
          "Lockdown/Nottingham/Groceries/DEB",
          "Lockdown/Plymouth/Groceries/DEB",
          "Non-Lockdown/Porto/Groceries/DEB",
          "Non-Lockdown/Santa Cruz de Tenerife/Groceries/DEB",
          "Non-Lockdown/Swansea/Groceries/DEB",
          "Non-Lockdown/Lampeter/Groceries /DEB",
          "Non-Lockdown/Swansea/Health/DEB",
          "Lockdown/Nottingham/Home Improvement/DEB",
          "Non-Lockdown/Swansea/Home Improvement/DEB",
          "Lockdown/swansea/Home Improvement/DEB",
          "Non-Lockdown/swansea/Home Improvement/DEB",
          "Non-Lockdown/Almería/Hotels/DEB",
          "Lockdown/Birmingham/Hotels/DEB",
          "Non-Lockdown/Birmingham/Hotels/DEB",
          "Lockdown/Cardiff/Hotels/DEB",
          "Non-Lockdown/Cardiff/Hotels/DEB",
          "Lockdown/Derby/Hotels/DEB",
          "Non-Lockdown/Genova/Hotels/DEB",
          "Non-Lockdown/Illes Balears/Hotels/DEB",
          "Non-Lockdown/Leeds/Hotels/DEB",
          "Non-Lockdown/London/Hotels/DEB",
          "Non-Lockdown/Malia/Hotels/DEB",
          "Non-Lockdown/New Brighton/Hotels/DEB",
          "Lockdown/Nottingham/Hotels/DEB",
          "Non-Lockdown/Nottingham/Hotels/DEB",
          "Non-Lockdown/Phoenix/Hotels/DEB",
          "Lockdown/Plymouth/Hotels/DEB",
          "Non-Lockdown/Prague/Hotels/DEB",
          "Non-Lockdown/Santa Cruz de Tenerife/Hotels/DEB",
          "Non-Lockdown/Vancouver/Hotels/DEB",
          "Non-Lockdown/Swansea/Insurance/DEB",
          "Lockdown/Nottingham/Investment/DEB",
          "Non-Lockdown/Nottingham/Investment/DEB",
          "Non-Lockdown/Swansea/Investment/DEB",
          "Non-Lockdown/Swansea/Mortgage/DEB",
          "Non-Lockdown/Boston/Other Shopping/DEB",
          "Non-Lockdown/Leicester/Other Shopping/DEB",
          "Lockdown/London/Other Shopping/DEB",
          "Lockdown/Nottingham/Other Shopping/DEB",
          "Non-Lockdown/Nottingham/Other Shopping/DEB",
          "Lockdown/Plymouth/Other Shopping/DEB",
          "Non-Lockdown/Setubal/Other Shopping/DEB",
          "Non-Lockdown/Swansea/Other Shopping/DEB",
          "Lockdown/Nottingham/Others/DEB",
          "Lockdown/Swansea/Others/DEB",
          "Non-Lockdown/Swansea/Others/DEB",
          "Non-Lockdown/Swansea/Purchase of uk.eg.org/DEB",
          "Non-Lockdown/Swansea/Rent/DEB",
          "Lockdown/Nottingham/Services/DEB",
          "Non-Lockdown/Swansea/Services/DEB",
          "Lockdown/Nottingham/Supplementary Income/DEB",
          "Non-Lockdown/Swansea/Supplementary Income/DEB",
          "Non-Lockdown/Aarhus/Travel/DEB",
          "Non-Lockdown/Amsterdam/Travel/DEB",
          "Non-Lockdown/Baltimore/Travel/DEB",
          "Lockdown/Belfast/Travel/DEB",
          "Non-Lockdown/Berlin/Travel/DEB",
          "Lockdown/Birmingham/Travel/DEB",
          "Non-Lockdown/Birmingham/Travel/DEB",
          "Non-Lockdown/Bristol/Travel/DEB",
          "Non-Lockdown/Brno/Travel/DEB",
          "Non-Lockdown/Budapest/Travel/DEB",
          "Non-Lockdown/Casablanca/Travel/DEB",
          "Non-Lockdown/Houston/Travel/DEB",
          "Non-Lockdown/Huston/Travel/DEB",
          "Non-Lockdown/London/Travel/DEB",
          "Non-Lockdown/Madrid/Travel/DEB",
          "Non-Lockdown/Malia/Travel/DEB",
          "Lockdown/Nottingham/Travel/DEB",
          "Lockdown/Plymouth/Travel/DEB",
          "Lockdown/Roma/Travel/DEB",
          "Non-Lockdown/Setubal/Travel/DEB",
          "Non-Lockdown/Vancouver/Travel/DEB",
          "Non-Lockdown/Vinohrady/Travel/DEB",
          "Non-Lockdown/Swansea/Bills/FEE",
          "Lockdown/Nottingham/Bills/FPO",
          "Lockdown/London/Entertainment/FPO",
          "Non-Lockdown/Swansea/Entertainment/FPO",
          "Lockdown/Nottingham/Home Improvement/FPO",
          "Lockdown/Nottingham/Investment/FPO",
          "Non-Lockdown/Nottingham/Mortgage/FPO",
          "Lockdown/Nottingham/Others/FPO",
          "Non-Lockdown/Swansea/Others/FPO",
          "Lockdown/Nottingham/Safety Deposit Return/FPO",
          "Lockdown/Nottingham/Savings/FPO",
          "Lockdown/Nottingham/Services/FPO",
          "Lockdown/Swansea/Services/FPO",
          "Non-Lockdown/Swansea/Services/FPO",
          "Lockdown/Nottingham/Services/Home Improvement/FPO",
          "Lockdown/Nottingham/Bills/PAY",
          "Lockdown/Swansea/Bills/PAY",
          "Non-Lockdown/Swansea/Bills/PAY",
          "Lockdown/Nottingham/Home Improvement/SO",
          "Lockdown/Nottingham/Savings/SO",
          "Non-Lockdown/Swansea/Savings/SO",
          "Lockdown/Nottingham/Account transfer/TFR",
          "Non-Lockdown/Swansea/Services/TFR",
          "Lockdown/Nottingham/Account transfer",
          "Lockdown/Nottingham/Amazon",
          "Lockdown/Swansea/Amazon",
          "Non-Lockdown/Swansea/Amazon",
          "Lockdown/Nottingham/Bills",
          "Non-Lockdown/Nottingham/Bills",
          "Lockdown/Swansea/Bills",
          "Non-Lockdown/Swansea/Bills",
          "Lockdown/Belfast/Cash",
          "Lockdown/Birmingham/Cash",
          "Non-Lockdown/Birmingham/Cash",
          "Non-Lockdown/Bristol/Cash",
          "Non-Lockdown/Cambridge/Cash",
          "Non-Lockdown/Cardiff/Cash",
          "Non-Lockdown/Leeds/Cash",
          "Lockdown/Leicester/Cash",
          "Non-Lockdown/Leicester/Cash",
          "Non-Lockdown/London/Cash",
          "Lockdown/Mansfiled/Cash",
          "Lockdown/Middleton/Cash",
          "Lockdown/Nottingham/Cash",
          "Non-Lockdown/Nottingham/Cash",
          "Non-Lockdown/Oakham/Cash",
          "Lockdown/Plymouth/Cash",
          "Lockdown/Swansea/Cash",
          "Non-Lockdown/Swansea/Cash",
          "Lockdown/nottingham/Cash",
          "Non-Lockdown/swansea/Cash",
          "Lockdown/Nottingham/Clothes",
          "Non-Lockdown/Swansea/Clothes",
          "Non-Lockdown/Aarhus/Dine Out",
          "Lockdown/Amsterdam/Dine Out",
          "Non-Lockdown/Amsterdam/Dine Out",
          "Lockdown/Bargoed/Dine Out",
          "Lockdown/Belfast/Dine Out",
          "Lockdown/Belfast /Dine Out",
          "Lockdown/Birmingham/Dine Out",
          "Non-Lockdown/Birmingham/Dine Out",
          "Non-Lockdown/Bristol/Dine Out",
          "Lockdown/Bushmills/Dine Out",
          "Non-Lockdown/Cardiff/Dine Out",
          "Lockdown/Derby/Dine Out",
          "Lockdown/Leeds/Dine Out",
          "Non-Lockdown/Lisbon/Dine Out",
          "Lockdown/London/Dine Out",
          "Non-Lockdown/London/Dine Out",
          "Lockdown/London/birmingham/Dine Out",
          "Non-Lockdown/Manchester/Dine Out",
          "Lockdown/Newcastle upon Tyne/Dine Out",
          "Lockdown/Nottingham/Dine Out",
          "Non-Lockdown/Nottingham/Dine Out",
          "Lockdown/Nottingham /Dine Out",
          "Non-Lockdown/Paris/Dine Out",
          "Lockdown/Plymouth/Dine Out",
          "Lockdown/Plymouth/Newcatle/Dine Out",
          "Non-Lockdown/Porto/Dine Out",
          "Lockdown/Roma/Dine Out",
          "Non-Lockdown/Sheerness/Dine Out",
          "Lockdown/Sheffild /Dine Out",
          "Non-Lockdown/Shrewsbury/Dine Out",
          "Lockdown/Swansea/Dine Out",
          "Non-Lockdown/Swansea/Dine Out",
          "Non-Lockdown/Vancouver/Dine Out",
          "Lockdown/Birmingham/Entertainment",
          "Lockdown/Derby/Entertainment",
          "Lockdown/London/Entertainment",
          "Non-Lockdown/London/Entertainment",
          "Lockdown/Nottingham/Entertainment",
          "Lockdown/Plymouth/Entertainment",
          "Lockdown/Reading/Entertainment",
          "Lockdown/Solihull/Entertainment",
          "Lockdown/Swansea/Entertainment",
          "Non-Lockdown/Swansea/Entertainment",
          "Non-Lockdown/Worcester/Entertainment",
          "Lockdown/Nottingham/Fitness",
          "Lockdown/Swansea/Fitness",
          "Non-Lockdown/Swansea/Fitness",
          "Lockdown/Derby/Groceries",
          "Lockdown/Leicester/Groceries",
          "Lockdown/Nottingham/Groceries",
          "Lockdown/Plymouth/Groceries",
          "Non-Lockdown/Porto/Groceries",
          "Non-Lockdown/Santa Cruz de Tenerife/Groceries",
          "Non-Lockdown/Swansea/Groceries",
          "Non-Lockdown/Lampeter/Groceries ",
          "Non-Lockdown/Swansea/Health",
          "Lockdown/Nottingham/Home Improvement",
          "Non-Lockdown/Swansea/Home Improvement",
          "Lockdown/swansea/Home Improvement",
          "Non-Lockdown/swansea/Home Improvement",
          "Non-Lockdown/Almería/Hotels",
          "Lockdown/Birmingham/Hotels",
          "Non-Lockdown/Birmingham/Hotels",
          "Lockdown/Cardiff/Hotels",
          "Non-Lockdown/Cardiff/Hotels",
          "Lockdown/Derby/Hotels",
          "Non-Lockdown/Genova/Hotels",
          "Non-Lockdown/Illes Balears/Hotels",
          "Non-Lockdown/Leeds/Hotels",
          "Non-Lockdown/London/Hotels",
          "Non-Lockdown/Malia/Hotels",
          "Non-Lockdown/New Brighton/Hotels",
          "Lockdown/Nottingham/Hotels",
          "Non-Lockdown/Nottingham/Hotels",
          "Non-Lockdown/Phoenix/Hotels",
          "Lockdown/Plymouth/Hotels",
          "Non-Lockdown/Prague/Hotels",
          "Non-Lockdown/Santa Cruz de Tenerife/Hotels",
          "Non-Lockdown/Vancouver/Hotels",
          "Lockdown/Swansea/Insurance",
          "Non-Lockdown/Swansea/Insurance",
          "Lockdown/Nottingham/Investment",
          "Non-Lockdown/Nottingham/Investment",
          "Non-Lockdown/Swansea/Investment",
          "Lockdown/Nottingham/Mortgage",
          "Non-Lockdown/Nottingham/Mortgage",
          "Lockdown/Swansea/Mortgage",
          "Non-Lockdown/Swansea/Mortgage",
          "Non-Lockdown/Boston/Other Shopping",
          "Non-Lockdown/Leicester/Other Shopping",
          "Lockdown/London/Other Shopping",
          "Lockdown/Nottingham/Other Shopping",
          "Non-Lockdown/Nottingham/Other Shopping",
          "Lockdown/Plymouth/Other Shopping",
          "Non-Lockdown/Setubal/Other Shopping",
          "Lockdown/Swansea/Other Shopping",
          "Non-Lockdown/Swansea/Other Shopping",
          "Lockdown/Nottingham/Others",
          "Lockdown/Swansea/Others",
          "Non-Lockdown/Swansea/Others",
          "Non-Lockdown/Swansea/Purchase of uk.eg.org",
          "Non-Lockdown/Swansea/Rent",
          "Lockdown/Nottingham/Safety Deposit Return",
          "Lockdown/Nottingham/Savings",
          "Lockdown/Swansea/Savings",
          "Non-Lockdown/Swansea/Savings",
          "Lockdown/Nottingham/Services",
          "Lockdown/Swansea/Services",
          "Non-Lockdown/Swansea/Services",
          "Lockdown/Nottingham/Services/Home Improvement",
          "Lockdown/Nottingham/Supplementary Income",
          "Non-Lockdown/Swansea/Supplementary Income",
          "Non-Lockdown/Aarhus/Travel",
          "Non-Lockdown/Amsterdam/Travel",
          "Non-Lockdown/Baltimore/Travel",
          "Lockdown/Belfast/Travel",
          "Non-Lockdown/Berlin/Travel",
          "Lockdown/Birmingham/Travel",
          "Non-Lockdown/Birmingham/Travel",
          "Non-Lockdown/Bristol/Travel",
          "Non-Lockdown/Brno/Travel",
          "Non-Lockdown/Budapest/Travel",
          "Non-Lockdown/Casablanca/Travel",
          "Non-Lockdown/Houston/Travel",
          "Non-Lockdown/Huston/Travel",
          "Non-Lockdown/London/Travel",
          "Non-Lockdown/Madrid/Travel",
          "Non-Lockdown/Malia/Travel",
          "Lockdown/Nottingham/Travel",
          "Lockdown/Plymouth/Travel",
          "Lockdown/Roma/Travel",
          "Non-Lockdown/Setubal/Travel",
          "Non-Lockdown/Vancouver/Travel",
          "Non-Lockdown/Vinohrady/Travel",
          "Non-Lockdown/Aarhus",
          "Non-Lockdown/Almería",
          "Lockdown/Amsterdam",
          "Non-Lockdown/Amsterdam",
          "Non-Lockdown/Baltimore",
          "Lockdown/Bargoed",
          "Lockdown/Belfast",
          "Lockdown/Belfast ",
          "Non-Lockdown/Berlin",
          "Lockdown/Birmingham",
          "Non-Lockdown/Birmingham",
          "Non-Lockdown/Boston",
          "Non-Lockdown/Bristol",
          "Non-Lockdown/Brno",
          "Non-Lockdown/Budapest",
          "Lockdown/Bushmills",
          "Non-Lockdown/Cambridge",
          "Lockdown/Cardiff",
          "Non-Lockdown/Cardiff",
          "Non-Lockdown/Casablanca",
          "Lockdown/Derby",
          "Non-Lockdown/Genova",
          "Non-Lockdown/Houston",
          "Non-Lockdown/Huston",
          "Non-Lockdown/Illes Balears",
          "Non-Lockdown/Lampeter",
          "Lockdown/Leeds",
          "Non-Lockdown/Leeds",
          "Lockdown/Leicester",
          "Non-Lockdown/Leicester",
          "Non-Lockdown/Lisbon",
          "Lockdown/London",
          "Non-Lockdown/London",
          "Lockdown/London/birmingham",
          "Non-Lockdown/Madrid",
          "Non-Lockdown/Malia",
          "Non-Lockdown/Manchester",
          "Lockdown/Mansfiled",
          "Lockdown/Middleton",
          "Non-Lockdown/New Brighton",
          "Lockdown/Newcastle upon Tyne",
          "Lockdown/Nottingham",
          "Non-Lockdown/Nottingham",
          "Lockdown/Nottingham ",
          "Non-Lockdown/Oakham",
          "Non-Lockdown/Paris",
          "Non-Lockdown/Phoenix",
          "Lockdown/Plymouth",
          "Lockdown/Plymouth/Newcatle",
          "Non-Lockdown/Porto",
          "Non-Lockdown/Prague",
          "Lockdown/Reading",
          "Lockdown/Roma",
          "Non-Lockdown/Santa Cruz de Tenerife",
          "Non-Lockdown/Setubal",
          "Non-Lockdown/Sheerness",
          "Lockdown/Sheffild ",
          "Non-Lockdown/Shrewsbury",
          "Lockdown/Solihull",
          "Lockdown/Swansea",
          "Non-Lockdown/Swansea",
          "Non-Lockdown/Vancouver",
          "Non-Lockdown/Vinohrady",
          "Non-Lockdown/Worcester",
          "Lockdown/nottingham",
          "Lockdown/swansea",
          "Non-Lockdown/swansea",
          "Lockdown",
          "Non-Lockdown"
         ],
         "labels": [
          "BP",
          "BP",
          "BP",
          "BP",
          "BP",
          "CHQ",
          "CPT",
          "CPT",
          "CPT",
          "CPT",
          "CPT",
          "CPT",
          "CPT",
          "CPT",
          "CPT",
          "CPT",
          "CPT",
          "CPT",
          "CPT",
          "CPT",
          "CPT",
          "CPT",
          "CPT",
          "CPT",
          "CPT",
          "CPT",
          "CPT",
          "CPT",
          "CPT",
          "DD",
          "DD",
          "DD",
          "DD",
          "DD",
          "DD",
          "DD",
          "DD",
          "DD",
          "DD",
          "DD",
          "DD",
          "DD",
          "DD",
          "DD",
          "DD",
          "DD",
          "DD",
          "DD",
          "DD",
          "DD",
          "DD",
          "DD",
          "DD",
          "DD",
          "DD",
          "DEB",
          "DEB",
          "DEB",
          "DEB",
          "DEB",
          "DEB",
          "DEB",
          "DEB",
          "DEB",
          "DEB",
          "DEB",
          "DEB",
          "DEB",
          "DEB",
          "DEB",
          "DEB",
          "DEB",
          "DEB",
          "DEB",
          "DEB",
          "DEB",
          "DEB",
          "DEB",
          "DEB",
          "DEB",
          "DEB",
          "DEB",
          "DEB",
          "DEB",
          "DEB",
          "DEB",
          "DEB",
          "DEB",
          "DEB",
          "DEB",
          "DEB",
          "DEB",
          "DEB",
          "DEB",
          "DEB",
          "DEB",
          "DEB",
          "DEB",
          "DEB",
          "DEB",
          "DEB",
          "DEB",
          "DEB",
          "DEB",
          "DEB",
          "DEB",
          "DEB",
          "DEB",
          "DEB",
          "DEB",
          "DEB",
          "DEB",
          "DEB",
          "DEB",
          "DEB",
          "DEB",
          "DEB",
          "DEB",
          "DEB",
          "DEB",
          "DEB",
          "DEB",
          "DEB",
          "DEB",
          "DEB",
          "DEB",
          "DEB",
          "DEB",
          "DEB",
          "DEB",
          "DEB",
          "DEB",
          "DEB",
          "DEB",
          "DEB",
          "DEB",
          "DEB",
          "DEB",
          "DEB",
          "DEB",
          "DEB",
          "DEB",
          "DEB",
          "DEB",
          "DEB",
          "DEB",
          "DEB",
          "DEB",
          "DEB",
          "DEB",
          "DEB",
          "DEB",
          "DEB",
          "DEB",
          "DEB",
          "DEB",
          "DEB",
          "DEB",
          "DEB",
          "DEB",
          "DEB",
          "DEB",
          "DEB",
          "DEB",
          "DEB",
          "DEB",
          "DEB",
          "DEB",
          "DEB",
          "DEB",
          "DEB",
          "DEB",
          "DEB",
          "DEB",
          "DEB",
          "DEB",
          "DEB",
          "DEB",
          "DEB",
          "DEB",
          "DEB",
          "DEB",
          "DEB",
          "DEB",
          "DEB",
          "DEB",
          "DEB",
          "FEE",
          "FPO",
          "FPO",
          "FPO",
          "FPO",
          "FPO",
          "FPO",
          "FPO",
          "FPO",
          "FPO",
          "FPO",
          "FPO",
          "FPO",
          "FPO",
          "FPO",
          "PAY",
          "PAY",
          "PAY",
          "SO",
          "SO",
          "SO",
          "TFR",
          "TFR",
          "Account transfer",
          "Amazon",
          "Amazon",
          "Amazon",
          "Bills",
          "Bills",
          "Bills",
          "Bills",
          "Cash",
          "Cash",
          "Cash",
          "Cash",
          "Cash",
          "Cash",
          "Cash",
          "Cash",
          "Cash",
          "Cash",
          "Cash",
          "Cash",
          "Cash",
          "Cash",
          "Cash",
          "Cash",
          "Cash",
          "Cash",
          "Cash",
          "Cash",
          "Clothes",
          "Clothes",
          "Dine Out",
          "Dine Out",
          "Dine Out",
          "Dine Out",
          "Dine Out",
          "Dine Out",
          "Dine Out",
          "Dine Out",
          "Dine Out",
          "Dine Out",
          "Dine Out",
          "Dine Out",
          "Dine Out",
          "Dine Out",
          "Dine Out",
          "Dine Out",
          "Dine Out",
          "Dine Out",
          "Dine Out",
          "Dine Out",
          "Dine Out",
          "Dine Out",
          "Dine Out",
          "Dine Out",
          "Dine Out",
          "Dine Out",
          "Dine Out",
          "Dine Out",
          "Dine Out",
          "Dine Out",
          "Dine Out",
          "Dine Out",
          "Dine Out",
          "Entertainment",
          "Entertainment",
          "Entertainment",
          "Entertainment",
          "Entertainment",
          "Entertainment",
          "Entertainment",
          "Entertainment",
          "Entertainment",
          "Entertainment",
          "Entertainment",
          "Fitness",
          "Fitness",
          "Fitness",
          "Groceries",
          "Groceries",
          "Groceries",
          "Groceries",
          "Groceries",
          "Groceries",
          "Groceries",
          "Groceries ",
          "Health",
          "Home Improvement",
          "Home Improvement",
          "Home Improvement",
          "Home Improvement",
          "Hotels",
          "Hotels",
          "Hotels",
          "Hotels",
          "Hotels",
          "Hotels",
          "Hotels",
          "Hotels",
          "Hotels",
          "Hotels",
          "Hotels",
          "Hotels",
          "Hotels",
          "Hotels",
          "Hotels",
          "Hotels",
          "Hotels",
          "Hotels",
          "Hotels",
          "Insurance",
          "Insurance",
          "Investment",
          "Investment",
          "Investment",
          "Mortgage",
          "Mortgage",
          "Mortgage",
          "Mortgage",
          "Other Shopping",
          "Other Shopping",
          "Other Shopping",
          "Other Shopping",
          "Other Shopping",
          "Other Shopping",
          "Other Shopping",
          "Other Shopping",
          "Other Shopping",
          "Others",
          "Others",
          "Others",
          "Purchase of uk.eg.org",
          "Rent",
          "Safety Deposit Return",
          "Savings",
          "Savings",
          "Savings",
          "Services",
          "Services",
          "Services",
          "Services/Home Improvement",
          "Supplementary Income",
          "Supplementary Income",
          "Travel",
          "Travel",
          "Travel",
          "Travel",
          "Travel",
          "Travel",
          "Travel",
          "Travel",
          "Travel",
          "Travel",
          "Travel",
          "Travel",
          "Travel",
          "Travel",
          "Travel",
          "Travel",
          "Travel",
          "Travel",
          "Travel",
          "Travel",
          "Travel",
          "Travel",
          "Aarhus",
          "Almería",
          "Amsterdam",
          "Amsterdam",
          "Baltimore",
          "Bargoed",
          "Belfast",
          "Belfast ",
          "Berlin",
          "Birmingham",
          "Birmingham",
          "Boston",
          "Bristol",
          "Brno",
          "Budapest",
          "Bushmills",
          "Cambridge",
          "Cardiff",
          "Cardiff",
          "Casablanca",
          "Derby",
          "Genova",
          "Houston",
          "Huston",
          "Illes Balears",
          "Lampeter",
          "Leeds",
          "Leeds",
          "Leicester",
          "Leicester",
          "Lisbon",
          "London",
          "London",
          "London/birmingham",
          "Madrid",
          "Malia",
          "Manchester",
          "Mansfiled",
          "Middleton",
          "New Brighton",
          "Newcastle upon Tyne",
          "Nottingham",
          "Nottingham",
          "Nottingham ",
          "Oakham",
          "Paris",
          "Phoenix",
          "Plymouth",
          "Plymouth/Newcatle",
          "Porto",
          "Prague",
          "Reading",
          "Roma",
          "Santa Cruz de Tenerife",
          "Setubal",
          "Sheerness",
          "Sheffild ",
          "Shrewsbury",
          "Solihull",
          "Swansea",
          "Swansea",
          "Vancouver",
          "Vinohrady",
          "Worcester",
          "nottingham",
          "swansea",
          "swansea",
          "Lockdown",
          "Non-Lockdown"
         ],
         "marker": {
          "coloraxis": "coloraxis",
          "colors": [
           1.19,
           2.94,
           524.4,
           13.690000000000001,
           505.13,
           793,
           50,
           20,
           40,
           40,
           50,
           50,
           40,
           130,
           50,
           650,
           50,
           100,
           40,
           1070,
           40,
           287.75,
           40,
           590,
           18619.01,
           280,
           60,
           99.01,
           100,
           26682.85,
           1264.99,
           269.4,
           13682.75,
           104.96,
           39.99,
           194.92000000000002,
           18,
           356.25,
           18,
           168.75,
           24.82,
           4485.84,
           25.5,
           1918.19,
           959.09,
           46840.59,
           532.79,
           18.39,
           1141.36,
           208.08,
           24.76,
           1058.8,
           39.74,
           201.33,
           42.519999999999996,
           8512.539999999999,
           116.36,
           12575.149999999998,
           210.9,
           180.23,
           180,
           110.49,
           11.22,
           37.989999999999995,
           65.98,
           56.22999999999999,
           6.52,
           62.66,
           465,
           119.2,
           9.98,
           115.81,
           104.03,
           5.25,
           5.2,
           28.45,
           17.5,
           2.95,
           32.02,
           45.95,
           8.79,
           15.05,
           267.3,
           24.899999999999995,
           2314.45,
           116.6,
           9.6,
           9.51,
           25.9,
           13.02,
           59.25,
           42.89,
           26.95,
           2.5,
           8.6,
           108.51,
           1142.44,
           68.98,
           14,
           8.8,
           49.519999999999996,
           144.06,
           779.58,
           368.94999999999993,
           10,
           5.55,
           100.53,
           517.2,
           29.75,
           344.99,
           37.98,
           184.89,
           27.66,
           4851.95,
           42.1,
           20.65,
           13.34,
           4590.58,
           500.35,
           50,
           4560.62,
           1853.8600000000001,
           130,
           462.94,
           607.58,
           112.7,
           394.99,
           24.899999999999995,
           45,
           12.55,
           740.63,
           339.47,
           201.6,
           114,
           966.29,
           58,
           196.24,
           89,
           1263.19,
           10,
           340.73,
           140,
           1263.93,
           320,
           60428.25,
           21058.23,
           10100,
           1030,
           47.01,
           84.98,
           4.89,
           250.75,
           9.99,
           79,
           148.28,
           208.38,
           348.15000000000003,
           41.21,
           3966.02,
           45.75,
           178.8,
           266.02,
           5738.7699999999995,
           285.28000000000003,
           67.08,
           21.48,
           61.230000000000004,
           819.22,
           23,
           740.63,
           13.7,
           86.2,
           94,
           7.51,
           35.16,
           82.69,
           72.51,
           18.59,
           59.6,
           207.55,
           281.04,
           292.26,
           232.9,
           103.76000000000002,
           344.6,
           177.86,
           114.02,
           337.94,
           200,
           164,
           60,
           4201.1,
           36999.96,
           5644.83,
           4129,
           578,
           370,
           400,
           6252.1900000000005,
           70,
           6671,
           895,
           90,
           3,
           57,
           6600,
           9300,
           15900,
           84000,
           4717,
           84000,
           8512.539999999999,
           116.36,
           12525.546034898594,
           26194.585475973694,
           1129.712122029864,
           232.0631299734748,
           13204.463718827927,
           20,
           40,
           40,
           50,
           50,
           40,
           130,
           50,
           650,
           50,
           100,
           40,
           1070,
           40,
           287.75,
           40,
           590,
           17880.47138753441,
           280,
           60,
           37.989999999999995,
           65.98,
           56.22999999999999,
           6.52,
           62.66,
           465,
           119.2,
           9.98,
           115.81,
           104.03,
           5.25,
           5.2,
           28.45,
           17.5,
           2.95,
           32.02,
           45.95,
           8.79,
           15.05,
           267.3,
           24.899999999999995,
           2314.45,
           116.6,
           9.6,
           9.51,
           25.9,
           13.02,
           59.25,
           42.89,
           26.95,
           2.5,
           8.6,
           108.51,
           1142.44,
           68.98,
           14,
           8.8,
           137.44956163357065,
           144.06,
           779.58,
           368.94999999999993,
           10,
           5.55,
           100.53,
           415.40175404090445,
           29.75,
           288.99811467940884,
           39.99,
           169.32712237011597,
           184.89,
           27.66,
           4851.95,
           42.1,
           20.65,
           13.34,
           4590.58,
           500.35,
           50,
           5332.270027958896,
           1612.4586387555373,
           116.37837837837837,
           384.3499281293039,
           607.58,
           112.7,
           394.99,
           24.899999999999995,
           45,
           12.55,
           740.63,
           339.47,
           201.6,
           114,
           966.29,
           58,
           196.24,
           89,
           1263.19,
           10,
           340.73,
           140,
           1263.93,
           24.82,
           4207.413292968839,
           51515.94167209421,
           21058.23,
           10100,
           1918.19,
           5644.83,
           959.09,
           45854.913665114625,
           47.01,
           84.98,
           4.89,
           442.5310087551369,
           9.99,
           79,
           148.28,
           18.39,
           935.426265399313,
           3673.9171201627246,
           35.03595118993483,
           3067.10836335988,
           45.75,
           178.8,
           370,
           8501.72091858691,
           13.690000000000001,
           15388.795143075016,
           6007.883519631923,
           70,
           5755.180595783727,
           895,
           285.28000000000003,
           57.55179562043795,
           21.48,
           61.230000000000004,
           819.22,
           23,
           740.63,
           13.7,
           86.2,
           94,
           7.51,
           35.16,
           82.69,
           72.51,
           18.59,
           59.6,
           207.55,
           281.04,
           292.26,
           232.9,
           103.76000000000002,
           344.6,
           177.86,
           114.02,
           46.6246725003217,
           607.58,
           6.52,
           61.953252885624345,
           819.22,
           465,
           93.32700369913688,
           9.98,
           740.63,
           94.85478579386248,
           281.2926345926234,
           47.01,
           76.13777219430486,
           7.51,
           35.16,
           5.2,
           50,
           24.899999999999995,
           39.086844424856764,
           82.69,
           155.2047224456959,
           740.63,
           72.51,
           18.59,
           339.47,
           500.35,
           2.95,
           173.5300361881785,
           42.04320885912954,
           584.6711480584505,
           32.02,
           119.09345211075805,
           105.93361057245316,
           15.05,
           207.55,
           811.8940823198352,
           267.3,
           100,
           40,
           58,
           24.899999999999995,
           48926.62023591849,
           16792.39678870872,
           9.6,
           287.75,
           9.51,
           1263.19,
           251.29965888464665,
           13.02,
           49.27390488110137,
           340.73,
           10,
           85.95765223320834,
           128.98105908438765,
           285.538302223665,
           26.95,
           2.5,
           8.6,
           5.55,
           554.0820396913759,
           21413.32557816512,
           1081.5090747764386,
           114.02,
           29.75,
           280,
           116.37837837837837,
           356.2144979687432,
           47917.303611381365,
           19371.74318737608
          ]
         },
         "name": "",
         "parents": [
          "Non-Lockdown/Swansea/Insurance",
          "Lockdown/Nottingham/Investment",
          "Lockdown/Nottingham/Savings",
          "Lockdown/Swansea/Savings",
          "Non-Lockdown/Swansea/Savings",
          "Non-Lockdown/Swansea/Cash",
          "Non-Lockdown/Swansea/Amazon",
          "Lockdown/Belfast/Cash",
          "Lockdown/Birmingham/Cash",
          "Non-Lockdown/Birmingham/Cash",
          "Non-Lockdown/Bristol/Cash",
          "Non-Lockdown/Cambridge/Cash",
          "Non-Lockdown/Cardiff/Cash",
          "Non-Lockdown/Leeds/Cash",
          "Lockdown/Leicester/Cash",
          "Non-Lockdown/Leicester/Cash",
          "Non-Lockdown/London/Cash",
          "Lockdown/Mansfiled/Cash",
          "Lockdown/Middleton/Cash",
          "Lockdown/Nottingham/Cash",
          "Non-Lockdown/Nottingham/Cash",
          "Non-Lockdown/Oakham/Cash",
          "Lockdown/Plymouth/Cash",
          "Lockdown/Swansea/Cash",
          "Non-Lockdown/Swansea/Cash",
          "Lockdown/nottingham/Cash",
          "Non-Lockdown/swansea/Cash",
          "Non-Lockdown/Swansea/Entertainment",
          "Non-Lockdown/Swansea/Other Shopping",
          "Lockdown/Nottingham/Bills",
          "Non-Lockdown/Nottingham/Bills",
          "Lockdown/Swansea/Bills",
          "Non-Lockdown/Swansea/Bills",
          "Lockdown/Nottingham/Fitness",
          "Lockdown/Swansea/Fitness",
          "Non-Lockdown/Swansea/Fitness",
          "Lockdown/Nottingham/Home Improvement",
          "Non-Lockdown/Swansea/Home Improvement",
          "Lockdown/swansea/Home Improvement",
          "Non-Lockdown/swansea/Home Improvement",
          "Lockdown/Swansea/Insurance",
          "Non-Lockdown/Swansea/Insurance",
          "Lockdown/Nottingham/Investment",
          "Lockdown/Nottingham/Mortgage",
          "Lockdown/Swansea/Mortgage",
          "Non-Lockdown/Swansea/Mortgage",
          "Lockdown/Nottingham/Other Shopping",
          "Lockdown/Swansea/Other Shopping",
          "Non-Lockdown/Swansea/Other Shopping",
          "Lockdown/Nottingham/Others",
          "Lockdown/Swansea/Others",
          "Non-Lockdown/Swansea/Others",
          "Non-Lockdown/Swansea/Savings",
          "Non-Lockdown/Swansea/Services",
          "Non-Lockdown/Swansea/Supplementary Income",
          "Lockdown/Nottingham/Amazon",
          "Lockdown/Swansea/Amazon",
          "Non-Lockdown/Swansea/Amazon",
          "Lockdown/Nottingham/Bills",
          "Non-Lockdown/Nottingham/Bills",
          "Lockdown/Swansea/Bills",
          "Non-Lockdown/Swansea/Bills",
          "Non-Lockdown/Swansea/Cash",
          "Lockdown/Nottingham/Clothes",
          "Non-Lockdown/Swansea/Clothes",
          "Non-Lockdown/Aarhus/Dine Out",
          "Lockdown/Amsterdam/Dine Out",
          "Non-Lockdown/Amsterdam/Dine Out",
          "Lockdown/Bargoed/Dine Out",
          "Lockdown/Belfast/Dine Out",
          "Lockdown/Belfast /Dine Out",
          "Lockdown/Birmingham/Dine Out",
          "Non-Lockdown/Birmingham/Dine Out",
          "Non-Lockdown/Bristol/Dine Out",
          "Lockdown/Bushmills/Dine Out",
          "Non-Lockdown/Cardiff/Dine Out",
          "Lockdown/Derby/Dine Out",
          "Lockdown/Leeds/Dine Out",
          "Non-Lockdown/Lisbon/Dine Out",
          "Lockdown/London/Dine Out",
          "Non-Lockdown/London/Dine Out",
          "Lockdown/London/birmingham/Dine Out",
          "Non-Lockdown/Manchester/Dine Out",
          "Lockdown/Newcastle upon Tyne/Dine Out",
          "Lockdown/Nottingham/Dine Out",
          "Non-Lockdown/Nottingham/Dine Out",
          "Lockdown/Nottingham /Dine Out",
          "Non-Lockdown/Paris/Dine Out",
          "Lockdown/Plymouth/Dine Out",
          "Lockdown/Plymouth/Newcatle/Dine Out",
          "Non-Lockdown/Porto/Dine Out",
          "Lockdown/Roma/Dine Out",
          "Non-Lockdown/Sheerness/Dine Out",
          "Lockdown/Sheffild /Dine Out",
          "Non-Lockdown/Shrewsbury/Dine Out",
          "Lockdown/Swansea/Dine Out",
          "Non-Lockdown/Swansea/Dine Out",
          "Non-Lockdown/Vancouver/Dine Out",
          "Lockdown/Birmingham/Entertainment",
          "Lockdown/Derby/Entertainment",
          "Lockdown/London/Entertainment",
          "Non-Lockdown/London/Entertainment",
          "Lockdown/Nottingham/Entertainment",
          "Lockdown/Plymouth/Entertainment",
          "Lockdown/Reading/Entertainment",
          "Lockdown/Solihull/Entertainment",
          "Lockdown/Swansea/Entertainment",
          "Non-Lockdown/Swansea/Entertainment",
          "Non-Lockdown/Worcester/Entertainment",
          "Lockdown/Nottingham/Fitness",
          "Non-Lockdown/Swansea/Fitness",
          "Lockdown/Derby/Groceries",
          "Lockdown/Leicester/Groceries",
          "Lockdown/Nottingham/Groceries",
          "Lockdown/Plymouth/Groceries",
          "Non-Lockdown/Porto/Groceries",
          "Non-Lockdown/Santa Cruz de Tenerife/Groceries",
          "Non-Lockdown/Swansea/Groceries",
          "Non-Lockdown/Lampeter/Groceries ",
          "Non-Lockdown/Swansea/Health",
          "Lockdown/Nottingham/Home Improvement",
          "Non-Lockdown/Swansea/Home Improvement",
          "Lockdown/swansea/Home Improvement",
          "Non-Lockdown/swansea/Home Improvement",
          "Non-Lockdown/Almería/Hotels",
          "Lockdown/Birmingham/Hotels",
          "Non-Lockdown/Birmingham/Hotels",
          "Lockdown/Cardiff/Hotels",
          "Non-Lockdown/Cardiff/Hotels",
          "Lockdown/Derby/Hotels",
          "Non-Lockdown/Genova/Hotels",
          "Non-Lockdown/Illes Balears/Hotels",
          "Non-Lockdown/Leeds/Hotels",
          "Non-Lockdown/London/Hotels",
          "Non-Lockdown/Malia/Hotels",
          "Non-Lockdown/New Brighton/Hotels",
          "Lockdown/Nottingham/Hotels",
          "Non-Lockdown/Nottingham/Hotels",
          "Non-Lockdown/Phoenix/Hotels",
          "Lockdown/Plymouth/Hotels",
          "Non-Lockdown/Prague/Hotels",
          "Non-Lockdown/Santa Cruz de Tenerife/Hotels",
          "Non-Lockdown/Vancouver/Hotels",
          "Non-Lockdown/Swansea/Insurance",
          "Lockdown/Nottingham/Investment",
          "Non-Lockdown/Nottingham/Investment",
          "Non-Lockdown/Swansea/Investment",
          "Non-Lockdown/Swansea/Mortgage",
          "Non-Lockdown/Boston/Other Shopping",
          "Non-Lockdown/Leicester/Other Shopping",
          "Lockdown/London/Other Shopping",
          "Lockdown/Nottingham/Other Shopping",
          "Non-Lockdown/Nottingham/Other Shopping",
          "Lockdown/Plymouth/Other Shopping",
          "Non-Lockdown/Setubal/Other Shopping",
          "Non-Lockdown/Swansea/Other Shopping",
          "Lockdown/Nottingham/Others",
          "Lockdown/Swansea/Others",
          "Non-Lockdown/Swansea/Others",
          "Non-Lockdown/Swansea/Purchase of uk.eg.org",
          "Non-Lockdown/Swansea/Rent",
          "Lockdown/Nottingham/Services",
          "Non-Lockdown/Swansea/Services",
          "Lockdown/Nottingham/Supplementary Income",
          "Non-Lockdown/Swansea/Supplementary Income",
          "Non-Lockdown/Aarhus/Travel",
          "Non-Lockdown/Amsterdam/Travel",
          "Non-Lockdown/Baltimore/Travel",
          "Lockdown/Belfast/Travel",
          "Non-Lockdown/Berlin/Travel",
          "Lockdown/Birmingham/Travel",
          "Non-Lockdown/Birmingham/Travel",
          "Non-Lockdown/Bristol/Travel",
          "Non-Lockdown/Brno/Travel",
          "Non-Lockdown/Budapest/Travel",
          "Non-Lockdown/Casablanca/Travel",
          "Non-Lockdown/Houston/Travel",
          "Non-Lockdown/Huston/Travel",
          "Non-Lockdown/London/Travel",
          "Non-Lockdown/Madrid/Travel",
          "Non-Lockdown/Malia/Travel",
          "Lockdown/Nottingham/Travel",
          "Lockdown/Plymouth/Travel",
          "Lockdown/Roma/Travel",
          "Non-Lockdown/Setubal/Travel",
          "Non-Lockdown/Vancouver/Travel",
          "Non-Lockdown/Vinohrady/Travel",
          "Non-Lockdown/Swansea/Bills",
          "Lockdown/Nottingham/Bills",
          "Lockdown/London/Entertainment",
          "Non-Lockdown/Swansea/Entertainment",
          "Lockdown/Nottingham/Home Improvement",
          "Lockdown/Nottingham/Investment",
          "Non-Lockdown/Nottingham/Mortgage",
          "Lockdown/Nottingham/Others",
          "Non-Lockdown/Swansea/Others",
          "Lockdown/Nottingham/Safety Deposit Return",
          "Lockdown/Nottingham/Savings",
          "Lockdown/Nottingham/Services",
          "Lockdown/Swansea/Services",
          "Non-Lockdown/Swansea/Services",
          "Lockdown/Nottingham/Services/Home Improvement",
          "Lockdown/Nottingham/Bills",
          "Lockdown/Swansea/Bills",
          "Non-Lockdown/Swansea/Bills",
          "Lockdown/Nottingham/Home Improvement",
          "Lockdown/Nottingham/Savings",
          "Non-Lockdown/Swansea/Savings",
          "Lockdown/Nottingham/Account transfer",
          "Non-Lockdown/Swansea/Services",
          "Lockdown/Nottingham",
          "Lockdown/Nottingham",
          "Lockdown/Swansea",
          "Non-Lockdown/Swansea",
          "Lockdown/Nottingham",
          "Non-Lockdown/Nottingham",
          "Lockdown/Swansea",
          "Non-Lockdown/Swansea",
          "Lockdown/Belfast",
          "Lockdown/Birmingham",
          "Non-Lockdown/Birmingham",
          "Non-Lockdown/Bristol",
          "Non-Lockdown/Cambridge",
          "Non-Lockdown/Cardiff",
          "Non-Lockdown/Leeds",
          "Lockdown/Leicester",
          "Non-Lockdown/Leicester",
          "Non-Lockdown/London",
          "Lockdown/Mansfiled",
          "Lockdown/Middleton",
          "Lockdown/Nottingham",
          "Non-Lockdown/Nottingham",
          "Non-Lockdown/Oakham",
          "Lockdown/Plymouth",
          "Lockdown/Swansea",
          "Non-Lockdown/Swansea",
          "Lockdown/nottingham",
          "Non-Lockdown/swansea",
          "Lockdown/Nottingham",
          "Non-Lockdown/Swansea",
          "Non-Lockdown/Aarhus",
          "Lockdown/Amsterdam",
          "Non-Lockdown/Amsterdam",
          "Lockdown/Bargoed",
          "Lockdown/Belfast",
          "Lockdown/Belfast ",
          "Lockdown/Birmingham",
          "Non-Lockdown/Birmingham",
          "Non-Lockdown/Bristol",
          "Lockdown/Bushmills",
          "Non-Lockdown/Cardiff",
          "Lockdown/Derby",
          "Lockdown/Leeds",
          "Non-Lockdown/Lisbon",
          "Lockdown/London",
          "Non-Lockdown/London",
          "Lockdown/London/birmingham",
          "Non-Lockdown/Manchester",
          "Lockdown/Newcastle upon Tyne",
          "Lockdown/Nottingham",
          "Non-Lockdown/Nottingham",
          "Lockdown/Nottingham ",
          "Non-Lockdown/Paris",
          "Lockdown/Plymouth",
          "Lockdown/Plymouth/Newcatle",
          "Non-Lockdown/Porto",
          "Lockdown/Roma",
          "Non-Lockdown/Sheerness",
          "Lockdown/Sheffild ",
          "Non-Lockdown/Shrewsbury",
          "Lockdown/Swansea",
          "Non-Lockdown/Swansea",
          "Non-Lockdown/Vancouver",
          "Lockdown/Birmingham",
          "Lockdown/Derby",
          "Lockdown/London",
          "Non-Lockdown/London",
          "Lockdown/Nottingham",
          "Lockdown/Plymouth",
          "Lockdown/Reading",
          "Lockdown/Solihull",
          "Lockdown/Swansea",
          "Non-Lockdown/Swansea",
          "Non-Lockdown/Worcester",
          "Lockdown/Nottingham",
          "Lockdown/Swansea",
          "Non-Lockdown/Swansea",
          "Lockdown/Derby",
          "Lockdown/Leicester",
          "Lockdown/Nottingham",
          "Lockdown/Plymouth",
          "Non-Lockdown/Porto",
          "Non-Lockdown/Santa Cruz de Tenerife",
          "Non-Lockdown/Swansea",
          "Non-Lockdown/Lampeter",
          "Non-Lockdown/Swansea",
          "Lockdown/Nottingham",
          "Non-Lockdown/Swansea",
          "Lockdown/swansea",
          "Non-Lockdown/swansea",
          "Non-Lockdown/Almería",
          "Lockdown/Birmingham",
          "Non-Lockdown/Birmingham",
          "Lockdown/Cardiff",
          "Non-Lockdown/Cardiff",
          "Lockdown/Derby",
          "Non-Lockdown/Genova",
          "Non-Lockdown/Illes Balears",
          "Non-Lockdown/Leeds",
          "Non-Lockdown/London",
          "Non-Lockdown/Malia",
          "Non-Lockdown/New Brighton",
          "Lockdown/Nottingham",
          "Non-Lockdown/Nottingham",
          "Non-Lockdown/Phoenix",
          "Lockdown/Plymouth",
          "Non-Lockdown/Prague",
          "Non-Lockdown/Santa Cruz de Tenerife",
          "Non-Lockdown/Vancouver",
          "Lockdown/Swansea",
          "Non-Lockdown/Swansea",
          "Lockdown/Nottingham",
          "Non-Lockdown/Nottingham",
          "Non-Lockdown/Swansea",
          "Lockdown/Nottingham",
          "Non-Lockdown/Nottingham",
          "Lockdown/Swansea",
          "Non-Lockdown/Swansea",
          "Non-Lockdown/Boston",
          "Non-Lockdown/Leicester",
          "Lockdown/London",
          "Lockdown/Nottingham",
          "Non-Lockdown/Nottingham",
          "Lockdown/Plymouth",
          "Non-Lockdown/Setubal",
          "Lockdown/Swansea",
          "Non-Lockdown/Swansea",
          "Lockdown/Nottingham",
          "Lockdown/Swansea",
          "Non-Lockdown/Swansea",
          "Non-Lockdown/Swansea",
          "Non-Lockdown/Swansea",
          "Lockdown/Nottingham",
          "Lockdown/Nottingham",
          "Lockdown/Swansea",
          "Non-Lockdown/Swansea",
          "Lockdown/Nottingham",
          "Lockdown/Swansea",
          "Non-Lockdown/Swansea",
          "Lockdown/Nottingham",
          "Lockdown/Nottingham",
          "Non-Lockdown/Swansea",
          "Non-Lockdown/Aarhus",
          "Non-Lockdown/Amsterdam",
          "Non-Lockdown/Baltimore",
          "Lockdown/Belfast",
          "Non-Lockdown/Berlin",
          "Lockdown/Birmingham",
          "Non-Lockdown/Birmingham",
          "Non-Lockdown/Bristol",
          "Non-Lockdown/Brno",
          "Non-Lockdown/Budapest",
          "Non-Lockdown/Casablanca",
          "Non-Lockdown/Houston",
          "Non-Lockdown/Huston",
          "Non-Lockdown/London",
          "Non-Lockdown/Madrid",
          "Non-Lockdown/Malia",
          "Lockdown/Nottingham",
          "Lockdown/Plymouth",
          "Lockdown/Roma",
          "Non-Lockdown/Setubal",
          "Non-Lockdown/Vancouver",
          "Non-Lockdown/Vinohrady",
          "Non-Lockdown",
          "Non-Lockdown",
          "Lockdown",
          "Non-Lockdown",
          "Non-Lockdown",
          "Lockdown",
          "Lockdown",
          "Lockdown",
          "Non-Lockdown",
          "Lockdown",
          "Non-Lockdown",
          "Non-Lockdown",
          "Non-Lockdown",
          "Non-Lockdown",
          "Non-Lockdown",
          "Lockdown",
          "Non-Lockdown",
          "Lockdown",
          "Non-Lockdown",
          "Non-Lockdown",
          "Lockdown",
          "Non-Lockdown",
          "Non-Lockdown",
          "Non-Lockdown",
          "Non-Lockdown",
          "Non-Lockdown",
          "Lockdown",
          "Non-Lockdown",
          "Lockdown",
          "Non-Lockdown",
          "Non-Lockdown",
          "Lockdown",
          "Non-Lockdown",
          "Lockdown",
          "Non-Lockdown",
          "Non-Lockdown",
          "Non-Lockdown",
          "Lockdown",
          "Lockdown",
          "Non-Lockdown",
          "Lockdown",
          "Lockdown",
          "Non-Lockdown",
          "Lockdown",
          "Non-Lockdown",
          "Non-Lockdown",
          "Non-Lockdown",
          "Lockdown",
          "Lockdown",
          "Non-Lockdown",
          "Non-Lockdown",
          "Lockdown",
          "Lockdown",
          "Non-Lockdown",
          "Non-Lockdown",
          "Non-Lockdown",
          "Lockdown",
          "Non-Lockdown",
          "Lockdown",
          "Lockdown",
          "Non-Lockdown",
          "Non-Lockdown",
          "Non-Lockdown",
          "Non-Lockdown",
          "Lockdown",
          "Lockdown",
          "Non-Lockdown",
          "",
          ""
         ],
         "type": "treemap",
         "values": [
          1.19,
          2.94,
          524.4,
          13.69,
          505.13,
          793,
          50,
          20,
          40,
          40,
          50,
          50,
          40,
          130,
          50,
          650,
          50,
          100,
          40,
          1070,
          40,
          287.75,
          40,
          590,
          18619.01,
          280,
          60,
          99.01,
          100,
          26682.850000000002,
          1264.99,
          269.4,
          13682.75,
          104.96,
          39.99,
          194.92000000000002,
          18,
          356.25,
          18,
          168.75,
          24.82,
          4485.84,
          25.5,
          1918.19,
          959.09,
          46840.59,
          532.79,
          18.39,
          1141.36,
          208.08,
          24.76,
          1058.8,
          39.74,
          201.33,
          42.519999999999996,
          8512.539999999999,
          116.36,
          12575.15,
          210.9,
          180.23,
          180,
          110.49,
          11.22,
          37.989999999999995,
          65.98,
          56.23,
          6.52,
          62.66,
          465,
          119.2,
          9.98,
          115.81,
          104.03,
          5.25,
          5.2,
          28.45,
          17.5,
          2.95,
          32.02,
          45.95,
          8.79,
          15.05,
          267.3,
          24.9,
          2314.45,
          116.6,
          9.6,
          9.51,
          25.9,
          13.02,
          59.25,
          42.89,
          26.95,
          2.5,
          8.6,
          108.51,
          1142.44,
          68.98,
          14,
          8.8,
          49.519999999999996,
          144.06,
          779.58,
          368.95,
          10,
          5.55,
          100.53,
          517.2,
          29.75,
          344.99,
          37.98,
          184.89,
          27.66,
          4851.95,
          42.1,
          20.65,
          13.34,
          4590.58,
          500.35,
          50,
          4560.62,
          1853.8600000000001,
          130,
          462.94,
          607.58,
          112.7,
          394.99,
          24.9,
          45,
          12.55,
          740.63,
          339.47,
          201.6,
          114,
          966.29,
          58,
          196.24,
          89,
          1263.19,
          10,
          340.73,
          140,
          1263.93,
          320,
          60428.25,
          21058.23,
          10100,
          1030,
          47.01,
          84.98,
          4.89,
          250.75,
          9.99,
          79,
          148.28,
          208.38,
          348.15000000000003,
          41.21,
          3966.02,
          45.75,
          178.8,
          266.02,
          5738.7699999999995,
          285.28000000000003,
          67.08,
          21.48,
          61.230000000000004,
          819.22,
          23,
          740.63,
          13.7,
          86.2,
          94,
          7.51,
          35.16,
          82.69,
          72.51,
          18.59,
          59.6,
          207.55,
          281.04,
          292.26,
          232.9,
          103.76,
          344.6,
          177.86,
          114.02,
          337.94,
          200,
          164,
          60,
          4201.1,
          36999.96,
          5644.83,
          4129,
          578,
          370,
          400,
          6252.1900000000005,
          70,
          6671,
          895,
          90,
          3,
          57,
          6600,
          9300,
          15900,
          84000,
          4717,
          84000,
          8512.539999999999,
          116.36,
          12625.15,
          27183.750000000004,
          1445.22,
          452.4,
          14188.18,
          20,
          40,
          40,
          50,
          50,
          40,
          130,
          50,
          650,
          50,
          100,
          40,
          1070,
          40,
          287.75,
          40,
          590,
          19423.23,
          280,
          60,
          37.989999999999995,
          65.98,
          56.23,
          6.52,
          62.66,
          465,
          119.2,
          9.98,
          115.81,
          104.03,
          5.25,
          5.2,
          28.45,
          17.5,
          2.95,
          32.02,
          45.95,
          8.79,
          15.05,
          267.3,
          24.9,
          2314.45,
          116.6,
          9.6,
          9.51,
          25.9,
          13.02,
          59.25,
          42.89,
          26.95,
          2.5,
          8.6,
          108.51,
          1142.44,
          68.98,
          14,
          8.8,
          213.51999999999998,
          144.06,
          779.58,
          368.95,
          10,
          5.55,
          100.53,
          676.21,
          29.75,
          449.95,
          39.99,
          232.9,
          184.89,
          27.66,
          4851.95,
          42.1,
          20.65,
          13.34,
          4590.58,
          500.35,
          50,
          15379.720000000001,
          2210.11,
          148,
          631.69,
          607.58,
          112.7,
          394.99,
          24.9,
          45,
          12.55,
          740.63,
          339.47,
          201.6,
          114,
          966.29,
          58,
          196.24,
          89,
          1263.19,
          10,
          340.73,
          140,
          1263.93,
          24.82,
          4807.03,
          97456.65,
          21058.23,
          10100,
          1918.19,
          5644.83,
          959.09,
          47870.59,
          47.01,
          84.98,
          4.89,
          783.54,
          9.99,
          79,
          148.28,
          18.39,
          1449.7399999999998,
          4685.23,
          65.97,
          5602.82,
          45.75,
          178.8,
          370,
          10224.4,
          13.69,
          16444.87,
          6518.210000000001,
          70,
          17328.1,
          895,
          285.28000000000003,
          109.6,
          21.48,
          61.230000000000004,
          819.22,
          23,
          740.63,
          13.7,
          86.2,
          94,
          7.51,
          35.16,
          82.69,
          72.51,
          18.59,
          59.6,
          207.55,
          281.04,
          292.26,
          232.9,
          103.76,
          344.6,
          177.86,
          114.02,
          77.71,
          607.58,
          6.52,
          123.89,
          819.22,
          465,
          162.2,
          9.98,
          740.63,
          296.21,
          625.22,
          47.01,
          149.25,
          7.51,
          35.16,
          5.2,
          50,
          24.9,
          113.45,
          82.69,
          223.74,
          740.63,
          72.51,
          18.59,
          339.47,
          500.35,
          2.95,
          331.6,
          77.66,
          734.98,
          32.02,
          264.36,
          376.45,
          15.05,
          207.55,
          1247.33,
          267.3,
          100,
          40,
          58,
          24.9,
          268204.93,
          28403.87,
          9.6,
          287.75,
          9.51,
          1263.19,
          798.8499999999999,
          13.02,
          79.9,
          340.73,
          10,
          146.65,
          153.34,
          492.88,
          26.95,
          2.5,
          8.6,
          5.55,
          2559.75,
          159142.08,
          1510.77,
          114.02,
          29.75,
          280,
          148,
          691.69,
          273897.52,
          200961.13
         ]
        }
       ],
       "layout": {
        "coloraxis": {
         "colorbar": {
          "title": {
           "text": "Debit Amount"
          }
         },
         "colorscale": [
          [
           0,
           "#440154"
          ],
          [
           0.1111111111111111,
           "#482878"
          ],
          [
           0.2222222222222222,
           "#3e4989"
          ],
          [
           0.3333333333333333,
           "#31688e"
          ],
          [
           0.4444444444444444,
           "#26828e"
          ],
          [
           0.5555555555555556,
           "#1f9e89"
          ],
          [
           0.6666666666666666,
           "#35b779"
          ],
          [
           0.7777777777777778,
           "#6ece58"
          ],
          [
           0.8888888888888888,
           "#b5de2b"
          ],
          [
           1,
           "#fde725"
          ]
         ]
        },
        "height": 800,
        "legend": {
         "tracegroupgap": 0
        },
        "template": {
         "data": {
          "bar": [
           {
            "error_x": {
             "color": "#2a3f5f"
            },
            "error_y": {
             "color": "#2a3f5f"
            },
            "marker": {
             "line": {
              "color": "#E5ECF6",
              "width": 0.5
             },
             "pattern": {
              "fillmode": "overlay",
              "size": 10,
              "solidity": 0.2
             }
            },
            "type": "bar"
           }
          ],
          "barpolar": [
           {
            "marker": {
             "line": {
              "color": "#E5ECF6",
              "width": 0.5
             },
             "pattern": {
              "fillmode": "overlay",
              "size": 10,
              "solidity": 0.2
             }
            },
            "type": "barpolar"
           }
          ],
          "carpet": [
           {
            "aaxis": {
             "endlinecolor": "#2a3f5f",
             "gridcolor": "white",
             "linecolor": "white",
             "minorgridcolor": "white",
             "startlinecolor": "#2a3f5f"
            },
            "baxis": {
             "endlinecolor": "#2a3f5f",
             "gridcolor": "white",
             "linecolor": "white",
             "minorgridcolor": "white",
             "startlinecolor": "#2a3f5f"
            },
            "type": "carpet"
           }
          ],
          "choropleth": [
           {
            "colorbar": {
             "outlinewidth": 0,
             "ticks": ""
            },
            "type": "choropleth"
           }
          ],
          "contour": [
           {
            "colorbar": {
             "outlinewidth": 0,
             "ticks": ""
            },
            "colorscale": [
             [
              0,
              "#0d0887"
             ],
             [
              0.1111111111111111,
              "#46039f"
             ],
             [
              0.2222222222222222,
              "#7201a8"
             ],
             [
              0.3333333333333333,
              "#9c179e"
             ],
             [
              0.4444444444444444,
              "#bd3786"
             ],
             [
              0.5555555555555556,
              "#d8576b"
             ],
             [
              0.6666666666666666,
              "#ed7953"
             ],
             [
              0.7777777777777778,
              "#fb9f3a"
             ],
             [
              0.8888888888888888,
              "#fdca26"
             ],
             [
              1,
              "#f0f921"
             ]
            ],
            "type": "contour"
           }
          ],
          "contourcarpet": [
           {
            "colorbar": {
             "outlinewidth": 0,
             "ticks": ""
            },
            "type": "contourcarpet"
           }
          ],
          "heatmap": [
           {
            "colorbar": {
             "outlinewidth": 0,
             "ticks": ""
            },
            "colorscale": [
             [
              0,
              "#0d0887"
             ],
             [
              0.1111111111111111,
              "#46039f"
             ],
             [
              0.2222222222222222,
              "#7201a8"
             ],
             [
              0.3333333333333333,
              "#9c179e"
             ],
             [
              0.4444444444444444,
              "#bd3786"
             ],
             [
              0.5555555555555556,
              "#d8576b"
             ],
             [
              0.6666666666666666,
              "#ed7953"
             ],
             [
              0.7777777777777778,
              "#fb9f3a"
             ],
             [
              0.8888888888888888,
              "#fdca26"
             ],
             [
              1,
              "#f0f921"
             ]
            ],
            "type": "heatmap"
           }
          ],
          "heatmapgl": [
           {
            "colorbar": {
             "outlinewidth": 0,
             "ticks": ""
            },
            "colorscale": [
             [
              0,
              "#0d0887"
             ],
             [
              0.1111111111111111,
              "#46039f"
             ],
             [
              0.2222222222222222,
              "#7201a8"
             ],
             [
              0.3333333333333333,
              "#9c179e"
             ],
             [
              0.4444444444444444,
              "#bd3786"
             ],
             [
              0.5555555555555556,
              "#d8576b"
             ],
             [
              0.6666666666666666,
              "#ed7953"
             ],
             [
              0.7777777777777778,
              "#fb9f3a"
             ],
             [
              0.8888888888888888,
              "#fdca26"
             ],
             [
              1,
              "#f0f921"
             ]
            ],
            "type": "heatmapgl"
           }
          ],
          "histogram": [
           {
            "marker": {
             "pattern": {
              "fillmode": "overlay",
              "size": 10,
              "solidity": 0.2
             }
            },
            "type": "histogram"
           }
          ],
          "histogram2d": [
           {
            "colorbar": {
             "outlinewidth": 0,
             "ticks": ""
            },
            "colorscale": [
             [
              0,
              "#0d0887"
             ],
             [
              0.1111111111111111,
              "#46039f"
             ],
             [
              0.2222222222222222,
              "#7201a8"
             ],
             [
              0.3333333333333333,
              "#9c179e"
             ],
             [
              0.4444444444444444,
              "#bd3786"
             ],
             [
              0.5555555555555556,
              "#d8576b"
             ],
             [
              0.6666666666666666,
              "#ed7953"
             ],
             [
              0.7777777777777778,
              "#fb9f3a"
             ],
             [
              0.8888888888888888,
              "#fdca26"
             ],
             [
              1,
              "#f0f921"
             ]
            ],
            "type": "histogram2d"
           }
          ],
          "histogram2dcontour": [
           {
            "colorbar": {
             "outlinewidth": 0,
             "ticks": ""
            },
            "colorscale": [
             [
              0,
              "#0d0887"
             ],
             [
              0.1111111111111111,
              "#46039f"
             ],
             [
              0.2222222222222222,
              "#7201a8"
             ],
             [
              0.3333333333333333,
              "#9c179e"
             ],
             [
              0.4444444444444444,
              "#bd3786"
             ],
             [
              0.5555555555555556,
              "#d8576b"
             ],
             [
              0.6666666666666666,
              "#ed7953"
             ],
             [
              0.7777777777777778,
              "#fb9f3a"
             ],
             [
              0.8888888888888888,
              "#fdca26"
             ],
             [
              1,
              "#f0f921"
             ]
            ],
            "type": "histogram2dcontour"
           }
          ],
          "mesh3d": [
           {
            "colorbar": {
             "outlinewidth": 0,
             "ticks": ""
            },
            "type": "mesh3d"
           }
          ],
          "parcoords": [
           {
            "line": {
             "colorbar": {
              "outlinewidth": 0,
              "ticks": ""
             }
            },
            "type": "parcoords"
           }
          ],
          "pie": [
           {
            "automargin": true,
            "type": "pie"
           }
          ],
          "scatter": [
           {
            "fillpattern": {
             "fillmode": "overlay",
             "size": 10,
             "solidity": 0.2
            },
            "type": "scatter"
           }
          ],
          "scatter3d": [
           {
            "line": {
             "colorbar": {
              "outlinewidth": 0,
              "ticks": ""
             }
            },
            "marker": {
             "colorbar": {
              "outlinewidth": 0,
              "ticks": ""
             }
            },
            "type": "scatter3d"
           }
          ],
          "scattercarpet": [
           {
            "marker": {
             "colorbar": {
              "outlinewidth": 0,
              "ticks": ""
             }
            },
            "type": "scattercarpet"
           }
          ],
          "scattergeo": [
           {
            "marker": {
             "colorbar": {
              "outlinewidth": 0,
              "ticks": ""
             }
            },
            "type": "scattergeo"
           }
          ],
          "scattergl": [
           {
            "marker": {
             "colorbar": {
              "outlinewidth": 0,
              "ticks": ""
             }
            },
            "type": "scattergl"
           }
          ],
          "scattermapbox": [
           {
            "marker": {
             "colorbar": {
              "outlinewidth": 0,
              "ticks": ""
             }
            },
            "type": "scattermapbox"
           }
          ],
          "scatterpolar": [
           {
            "marker": {
             "colorbar": {
              "outlinewidth": 0,
              "ticks": ""
             }
            },
            "type": "scatterpolar"
           }
          ],
          "scatterpolargl": [
           {
            "marker": {
             "colorbar": {
              "outlinewidth": 0,
              "ticks": ""
             }
            },
            "type": "scatterpolargl"
           }
          ],
          "scatterternary": [
           {
            "marker": {
             "colorbar": {
              "outlinewidth": 0,
              "ticks": ""
             }
            },
            "type": "scatterternary"
           }
          ],
          "surface": [
           {
            "colorbar": {
             "outlinewidth": 0,
             "ticks": ""
            },
            "colorscale": [
             [
              0,
              "#0d0887"
             ],
             [
              0.1111111111111111,
              "#46039f"
             ],
             [
              0.2222222222222222,
              "#7201a8"
             ],
             [
              0.3333333333333333,
              "#9c179e"
             ],
             [
              0.4444444444444444,
              "#bd3786"
             ],
             [
              0.5555555555555556,
              "#d8576b"
             ],
             [
              0.6666666666666666,
              "#ed7953"
             ],
             [
              0.7777777777777778,
              "#fb9f3a"
             ],
             [
              0.8888888888888888,
              "#fdca26"
             ],
             [
              1,
              "#f0f921"
             ]
            ],
            "type": "surface"
           }
          ],
          "table": [
           {
            "cells": {
             "fill": {
              "color": "#EBF0F8"
             },
             "line": {
              "color": "white"
             }
            },
            "header": {
             "fill": {
              "color": "#C8D4E3"
             },
             "line": {
              "color": "white"
             }
            },
            "type": "table"
           }
          ]
         },
         "layout": {
          "annotationdefaults": {
           "arrowcolor": "#2a3f5f",
           "arrowhead": 0,
           "arrowwidth": 1
          },
          "autotypenumbers": "strict",
          "coloraxis": {
           "colorbar": {
            "outlinewidth": 0,
            "ticks": ""
           }
          },
          "colorscale": {
           "diverging": [
            [
             0,
             "#8e0152"
            ],
            [
             0.1,
             "#c51b7d"
            ],
            [
             0.2,
             "#de77ae"
            ],
            [
             0.3,
             "#f1b6da"
            ],
            [
             0.4,
             "#fde0ef"
            ],
            [
             0.5,
             "#f7f7f7"
            ],
            [
             0.6,
             "#e6f5d0"
            ],
            [
             0.7,
             "#b8e186"
            ],
            [
             0.8,
             "#7fbc41"
            ],
            [
             0.9,
             "#4d9221"
            ],
            [
             1,
             "#276419"
            ]
           ],
           "sequential": [
            [
             0,
             "#0d0887"
            ],
            [
             0.1111111111111111,
             "#46039f"
            ],
            [
             0.2222222222222222,
             "#7201a8"
            ],
            [
             0.3333333333333333,
             "#9c179e"
            ],
            [
             0.4444444444444444,
             "#bd3786"
            ],
            [
             0.5555555555555556,
             "#d8576b"
            ],
            [
             0.6666666666666666,
             "#ed7953"
            ],
            [
             0.7777777777777778,
             "#fb9f3a"
            ],
            [
             0.8888888888888888,
             "#fdca26"
            ],
            [
             1,
             "#f0f921"
            ]
           ],
           "sequentialminus": [
            [
             0,
             "#0d0887"
            ],
            [
             0.1111111111111111,
             "#46039f"
            ],
            [
             0.2222222222222222,
             "#7201a8"
            ],
            [
             0.3333333333333333,
             "#9c179e"
            ],
            [
             0.4444444444444444,
             "#bd3786"
            ],
            [
             0.5555555555555556,
             "#d8576b"
            ],
            [
             0.6666666666666666,
             "#ed7953"
            ],
            [
             0.7777777777777778,
             "#fb9f3a"
            ],
            [
             0.8888888888888888,
             "#fdca26"
            ],
            [
             1,
             "#f0f921"
            ]
           ]
          },
          "colorway": [
           "#636efa",
           "#EF553B",
           "#00cc96",
           "#ab63fa",
           "#FFA15A",
           "#19d3f3",
           "#FF6692",
           "#B6E880",
           "#FF97FF",
           "#FECB52"
          ],
          "font": {
           "color": "#2a3f5f"
          },
          "geo": {
           "bgcolor": "white",
           "lakecolor": "white",
           "landcolor": "#E5ECF6",
           "showlakes": true,
           "showland": true,
           "subunitcolor": "white"
          },
          "hoverlabel": {
           "align": "left"
          },
          "hovermode": "closest",
          "mapbox": {
           "style": "light"
          },
          "paper_bgcolor": "white",
          "plot_bgcolor": "#E5ECF6",
          "polar": {
           "angularaxis": {
            "gridcolor": "white",
            "linecolor": "white",
            "ticks": ""
           },
           "bgcolor": "#E5ECF6",
           "radialaxis": {
            "gridcolor": "white",
            "linecolor": "white",
            "ticks": ""
           }
          },
          "scene": {
           "xaxis": {
            "backgroundcolor": "#E5ECF6",
            "gridcolor": "white",
            "gridwidth": 2,
            "linecolor": "white",
            "showbackground": true,
            "ticks": "",
            "zerolinecolor": "white"
           },
           "yaxis": {
            "backgroundcolor": "#E5ECF6",
            "gridcolor": "white",
            "gridwidth": 2,
            "linecolor": "white",
            "showbackground": true,
            "ticks": "",
            "zerolinecolor": "white"
           },
           "zaxis": {
            "backgroundcolor": "#E5ECF6",
            "gridcolor": "white",
            "gridwidth": 2,
            "linecolor": "white",
            "showbackground": true,
            "ticks": "",
            "zerolinecolor": "white"
           }
          },
          "shapedefaults": {
           "line": {
            "color": "#2a3f5f"
           }
          },
          "ternary": {
           "aaxis": {
            "gridcolor": "white",
            "linecolor": "white",
            "ticks": ""
           },
           "baxis": {
            "gridcolor": "white",
            "linecolor": "white",
            "ticks": ""
           },
           "bgcolor": "#E5ECF6",
           "caxis": {
            "gridcolor": "white",
            "linecolor": "white",
            "ticks": ""
           }
          },
          "title": {
           "x": 0.05
          },
          "xaxis": {
           "automargin": true,
           "gridcolor": "white",
           "linecolor": "white",
           "ticks": "",
           "title": {
            "standoff": 15
           },
           "zerolinecolor": "white",
           "zerolinewidth": 2
          },
          "yaxis": {
           "automargin": true,
           "gridcolor": "white",
           "linecolor": "white",
           "ticks": "",
           "title": {
            "standoff": 15
           },
           "zerolinecolor": "white",
           "zerolinewidth": 2
          }
         }
        },
        "title": {
         "text": "Comparison of Lockdown and Non-Lockdown Times"
        },
        "xaxis": {
         "tickangle": -45
        }
       }
      }
     },
     "metadata": {},
     "output_type": "display_data"
    }
   ],
   "source": [
    "import pandas as pd\n",
    "import plotly.express as px\n",
    "\n",
    "# Read the dataset\n",
    "df = pd.read_csv('your_dataset.csv')\n",
    "\n",
    "# Convert the date column to datetime type\n",
    "df['Transaction Date'] = pd.to_datetime(df['Transaction Date'], infer_datetime_format=True)\n",
    "\n",
    "# Define lockdown periods\n",
    "lockdown_start = pd.to_datetime('2019-12-01')\n",
    "lockdown_end = pd.to_datetime('2022-12-31')\n",
    "\n",
    "# Create a new column to indicate lockdown or non-lockdown\n",
    "df['Lockdown'] = df['Transaction Date'].apply(lambda x: 'Lockdown' if lockdown_start <= x <= lockdown_end else 'Non-Lockdown')\n",
    "\n",
    "# Group data by lockdown status and other variables\n",
    "lockdown_grouped = df.groupby(['Lockdown', 'Transaction Type', 'Category', 'Location Country', 'Location City']).sum().reset_index()\n",
    "\n",
    "# Filter out groups with zero 'Debit Amount'\n",
    "lockdown_grouped = lockdown_grouped[lockdown_grouped['Debit Amount'] != 0]\n",
    "\n",
    "# Create the treemap\n",
    "fig = px.treemap(lockdown_grouped,\n",
    "                 path=['Lockdown','Location City', 'Category' ,'Transaction Type'],\n",
    "                 values='Debit Amount',\n",
    "                 color='Debit Amount',\n",
    "                 color_continuous_scale='Viridis',\n",
    "                 title='Comparison of Lockdown and Non-Lockdown Times')\n",
    "\n",
    "# Set layout options\n",
    "fig.update_layout(height=800)\n",
    "\n",
    "# Rotate x-axis labels for better readability\n",
    "fig.update_layout(xaxis_tickangle=-45)\n",
    "\n",
    "# Show the treemap\n",
    "fig.show()\n"
   ]
  }
 ],
 "metadata": {
  "kernelspec": {
   "display_name": "Python 3",
   "language": "python",
   "name": "python3"
  },
  "language_info": {
   "codemirror_mode": {
    "name": "ipython",
    "version": 3
   },
   "file_extension": ".py",
   "mimetype": "text/x-python",
   "name": "python",
   "nbconvert_exporter": "python",
   "pygments_lexer": "ipython3",
   "version": "3.11.2"
  },
  "orig_nbformat": 4
 },
 "nbformat": 4,
 "nbformat_minor": 2
}
